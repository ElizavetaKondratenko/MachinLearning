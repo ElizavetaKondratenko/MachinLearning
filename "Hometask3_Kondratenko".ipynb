{
  "nbformat": 4,
  "nbformat_minor": 0,
  "metadata": {
    "kernelspec": {
      "display_name": "Python 3",
      "language": "python",
      "name": "python3"
    },
    "language_info": {
      "codemirror_mode": {
        "name": "ipython",
        "version": 3
      },
      "file_extension": ".py",
      "mimetype": "text/x-python",
      "name": "python",
      "nbconvert_exporter": "python",
      "pygments_lexer": "ipython3",
      "version": "3.7.6"
    },
    "colab": {
      "name": " \"Hometask3_5points.ipynb\"",
      "provenance": [],
      "collapsed_sections": []
    }
  },
  "cells": [
    {
      "cell_type": "markdown",
      "metadata": {
        "id": "G_qmKwgFLmwA"
      },
      "source": [
        "# Практическая работа №1"
      ]
    },
    {
      "cell_type": "code",
      "metadata": {
        "id": "p75BtAjKLmwC"
      },
      "source": [
        "import numpy as np\n",
        "import pandas as pd\n",
        "from sklearn.model_selection import train_test_split, cross_val_score, GridSearchCV\n",
        "\n",
        "from sklearn.linear_model import LinearRegression\n",
        "from sklearn.tree import DecisionTreeRegressor\n",
        "\n",
        "from sklearn.metrics import mean_squared_error, r2_score\n",
        "\n",
        "from sklearn.preprocessing import PolynomialFeatures\n",
        "from sklearn.pipeline import Pipeline\n",
        "from sklearn.preprocessing import StandardScaler"
      ],
      "execution_count": null,
      "outputs": []
    },
    {
      "cell_type": "markdown",
      "metadata": {
        "id": "TXLTSYtuLmxC"
      },
      "source": [
        "### Загрузим данные для работы. "
      ]
    },
    {
      "cell_type": "code",
      "metadata": {
        "id": "HPh4r49_L7pD",
        "outputId": "d196ac6c-4b61-4a93-ec00-912865a36cb2",
        "colab": {
          "resources": {
            "http://localhost:8080/nbextensions/google.colab/files.js": {
              "data": "Ly8gQ29weXJpZ2h0IDIwMTcgR29vZ2xlIExMQwovLwovLyBMaWNlbnNlZCB1bmRlciB0aGUgQXBhY2hlIExpY2Vuc2UsIFZlcnNpb24gMi4wICh0aGUgIkxpY2Vuc2UiKTsKLy8geW91IG1heSBub3QgdXNlIHRoaXMgZmlsZSBleGNlcHQgaW4gY29tcGxpYW5jZSB3aXRoIHRoZSBMaWNlbnNlLgovLyBZb3UgbWF5IG9idGFpbiBhIGNvcHkgb2YgdGhlIExpY2Vuc2UgYXQKLy8KLy8gICAgICBodHRwOi8vd3d3LmFwYWNoZS5vcmcvbGljZW5zZXMvTElDRU5TRS0yLjAKLy8KLy8gVW5sZXNzIHJlcXVpcmVkIGJ5IGFwcGxpY2FibGUgbGF3IG9yIGFncmVlZCB0byBpbiB3cml0aW5nLCBzb2Z0d2FyZQovLyBkaXN0cmlidXRlZCB1bmRlciB0aGUgTGljZW5zZSBpcyBkaXN0cmlidXRlZCBvbiBhbiAiQVMgSVMiIEJBU0lTLAovLyBXSVRIT1VUIFdBUlJBTlRJRVMgT1IgQ09ORElUSU9OUyBPRiBBTlkgS0lORCwgZWl0aGVyIGV4cHJlc3Mgb3IgaW1wbGllZC4KLy8gU2VlIHRoZSBMaWNlbnNlIGZvciB0aGUgc3BlY2lmaWMgbGFuZ3VhZ2UgZ292ZXJuaW5nIHBlcm1pc3Npb25zIGFuZAovLyBsaW1pdGF0aW9ucyB1bmRlciB0aGUgTGljZW5zZS4KCi8qKgogKiBAZmlsZW92ZXJ2aWV3IEhlbHBlcnMgZm9yIGdvb2dsZS5jb2xhYiBQeXRob24gbW9kdWxlLgogKi8KKGZ1bmN0aW9uKHNjb3BlKSB7CmZ1bmN0aW9uIHNwYW4odGV4dCwgc3R5bGVBdHRyaWJ1dGVzID0ge30pIHsKICBjb25zdCBlbGVtZW50ID0gZG9jdW1lbnQuY3JlYXRlRWxlbWVudCgnc3BhbicpOwogIGVsZW1lbnQudGV4dENvbnRlbnQgPSB0ZXh0OwogIGZvciAoY29uc3Qga2V5IG9mIE9iamVjdC5rZXlzKHN0eWxlQXR0cmlidXRlcykpIHsKICAgIGVsZW1lbnQuc3R5bGVba2V5XSA9IHN0eWxlQXR0cmlidXRlc1trZXldOwogIH0KICByZXR1cm4gZWxlbWVudDsKfQoKLy8gTWF4IG51bWJlciBvZiBieXRlcyB3aGljaCB3aWxsIGJlIHVwbG9hZGVkIGF0IGEgdGltZS4KY29uc3QgTUFYX1BBWUxPQURfU0laRSA9IDEwMCAqIDEwMjQ7CgpmdW5jdGlvbiBfdXBsb2FkRmlsZXMoaW5wdXRJZCwgb3V0cHV0SWQpIHsKICBjb25zdCBzdGVwcyA9IHVwbG9hZEZpbGVzU3RlcChpbnB1dElkLCBvdXRwdXRJZCk7CiAgY29uc3Qgb3V0cHV0RWxlbWVudCA9IGRvY3VtZW50LmdldEVsZW1lbnRCeUlkKG91dHB1dElkKTsKICAvLyBDYWNoZSBzdGVwcyBvbiB0aGUgb3V0cHV0RWxlbWVudCB0byBtYWtlIGl0IGF2YWlsYWJsZSBmb3IgdGhlIG5leHQgY2FsbAogIC8vIHRvIHVwbG9hZEZpbGVzQ29udGludWUgZnJvbSBQeXRob24uCiAgb3V0cHV0RWxlbWVudC5zdGVwcyA9IHN0ZXBzOwoKICByZXR1cm4gX3VwbG9hZEZpbGVzQ29udGludWUob3V0cHV0SWQpOwp9CgovLyBUaGlzIGlzIHJvdWdobHkgYW4gYXN5bmMgZ2VuZXJhdG9yIChub3Qgc3VwcG9ydGVkIGluIHRoZSBicm93c2VyIHlldCksCi8vIHdoZXJlIHRoZXJlIGFyZSBtdWx0aXBsZSBhc3luY2hyb25vdXMgc3RlcHMgYW5kIHRoZSBQeXRob24gc2lkZSBpcyBnb2luZwovLyB0byBwb2xsIGZvciBjb21wbGV0aW9uIG9mIGVhY2ggc3RlcC4KLy8gVGhpcyB1c2VzIGEgUHJvbWlzZSB0byBibG9jayB0aGUgcHl0aG9uIHNpZGUgb24gY29tcGxldGlvbiBvZiBlYWNoIHN0ZXAsCi8vIHRoZW4gcGFzc2VzIHRoZSByZXN1bHQgb2YgdGhlIHByZXZpb3VzIHN0ZXAgYXMgdGhlIGlucHV0IHRvIHRoZSBuZXh0IHN0ZXAuCmZ1bmN0aW9uIF91cGxvYWRGaWxlc0NvbnRpbnVlKG91dHB1dElkKSB7CiAgY29uc3Qgb3V0cHV0RWxlbWVudCA9IGRvY3VtZW50LmdldEVsZW1lbnRCeUlkKG91dHB1dElkKTsKICBjb25zdCBzdGVwcyA9IG91dHB1dEVsZW1lbnQuc3RlcHM7CgogIGNvbnN0IG5leHQgPSBzdGVwcy5uZXh0KG91dHB1dEVsZW1lbnQubGFzdFByb21pc2VWYWx1ZSk7CiAgcmV0dXJuIFByb21pc2UucmVzb2x2ZShuZXh0LnZhbHVlLnByb21pc2UpLnRoZW4oKHZhbHVlKSA9PiB7CiAgICAvLyBDYWNoZSB0aGUgbGFzdCBwcm9taXNlIHZhbHVlIHRvIG1ha2UgaXQgYXZhaWxhYmxlIHRvIHRoZSBuZXh0CiAgICAvLyBzdGVwIG9mIHRoZSBnZW5lcmF0b3IuCiAgICBvdXRwdXRFbGVtZW50Lmxhc3RQcm9taXNlVmFsdWUgPSB2YWx1ZTsKICAgIHJldHVybiBuZXh0LnZhbHVlLnJlc3BvbnNlOwogIH0pOwp9CgovKioKICogR2VuZXJhdG9yIGZ1bmN0aW9uIHdoaWNoIGlzIGNhbGxlZCBiZXR3ZWVuIGVhY2ggYXN5bmMgc3RlcCBvZiB0aGUgdXBsb2FkCiAqIHByb2Nlc3MuCiAqIEBwYXJhbSB7c3RyaW5nfSBpbnB1dElkIEVsZW1lbnQgSUQgb2YgdGhlIGlucHV0IGZpbGUgcGlja2VyIGVsZW1lbnQuCiAqIEBwYXJhbSB7c3RyaW5nfSBvdXRwdXRJZCBFbGVtZW50IElEIG9mIHRoZSBvdXRwdXQgZGlzcGxheS4KICogQHJldHVybiB7IUl0ZXJhYmxlPCFPYmplY3Q+fSBJdGVyYWJsZSBvZiBuZXh0IHN0ZXBzLgogKi8KZnVuY3Rpb24qIHVwbG9hZEZpbGVzU3RlcChpbnB1dElkLCBvdXRwdXRJZCkgewogIGNvbnN0IGlucHV0RWxlbWVudCA9IGRvY3VtZW50LmdldEVsZW1lbnRCeUlkKGlucHV0SWQpOwogIGlucHV0RWxlbWVudC5kaXNhYmxlZCA9IGZhbHNlOwoKICBjb25zdCBvdXRwdXRFbGVtZW50ID0gZG9jdW1lbnQuZ2V0RWxlbWVudEJ5SWQob3V0cHV0SWQpOwogIG91dHB1dEVsZW1lbnQuaW5uZXJIVE1MID0gJyc7CgogIGNvbnN0IHBpY2tlZFByb21pc2UgPSBuZXcgUHJvbWlzZSgocmVzb2x2ZSkgPT4gewogICAgaW5wdXRFbGVtZW50LmFkZEV2ZW50TGlzdGVuZXIoJ2NoYW5nZScsIChlKSA9PiB7CiAgICAgIHJlc29sdmUoZS50YXJnZXQuZmlsZXMpOwogICAgfSk7CiAgfSk7CgogIGNvbnN0IGNhbmNlbCA9IGRvY3VtZW50LmNyZWF0ZUVsZW1lbnQoJ2J1dHRvbicpOwogIGlucHV0RWxlbWVudC5wYXJlbnRFbGVtZW50LmFwcGVuZENoaWxkKGNhbmNlbCk7CiAgY2FuY2VsLnRleHRDb250ZW50ID0gJ0NhbmNlbCB1cGxvYWQnOwogIGNvbnN0IGNhbmNlbFByb21pc2UgPSBuZXcgUHJvbWlzZSgocmVzb2x2ZSkgPT4gewogICAgY2FuY2VsLm9uY2xpY2sgPSAoKSA9PiB7CiAgICAgIHJlc29sdmUobnVsbCk7CiAgICB9OwogIH0pOwoKICAvLyBXYWl0IGZvciB0aGUgdXNlciB0byBwaWNrIHRoZSBmaWxlcy4KICBjb25zdCBmaWxlcyA9IHlpZWxkIHsKICAgIHByb21pc2U6IFByb21pc2UucmFjZShbcGlja2VkUHJvbWlzZSwgY2FuY2VsUHJvbWlzZV0pLAogICAgcmVzcG9uc2U6IHsKICAgICAgYWN0aW9uOiAnc3RhcnRpbmcnLAogICAgfQogIH07CgogIGNhbmNlbC5yZW1vdmUoKTsKCiAgLy8gRGlzYWJsZSB0aGUgaW5wdXQgZWxlbWVudCBzaW5jZSBmdXJ0aGVyIHBpY2tzIGFyZSBub3QgYWxsb3dlZC4KICBpbnB1dEVsZW1lbnQuZGlzYWJsZWQgPSB0cnVlOwoKICBpZiAoIWZpbGVzKSB7CiAgICByZXR1cm4gewogICAgICByZXNwb25zZTogewogICAgICAgIGFjdGlvbjogJ2NvbXBsZXRlJywKICAgICAgfQogICAgfTsKICB9CgogIGZvciAoY29uc3QgZmlsZSBvZiBmaWxlcykgewogICAgY29uc3QgbGkgPSBkb2N1bWVudC5jcmVhdGVFbGVtZW50KCdsaScpOwogICAgbGkuYXBwZW5kKHNwYW4oZmlsZS5uYW1lLCB7Zm9udFdlaWdodDogJ2JvbGQnfSkpOwogICAgbGkuYXBwZW5kKHNwYW4oCiAgICAgICAgYCgke2ZpbGUudHlwZSB8fCAnbi9hJ30pIC0gJHtmaWxlLnNpemV9IGJ5dGVzLCBgICsKICAgICAgICBgbGFzdCBtb2RpZmllZDogJHsKICAgICAgICAgICAgZmlsZS5sYXN0TW9kaWZpZWREYXRlID8gZmlsZS5sYXN0TW9kaWZpZWREYXRlLnRvTG9jYWxlRGF0ZVN0cmluZygpIDoKICAgICAgICAgICAgICAgICAgICAgICAgICAgICAgICAgICAgJ24vYSd9IC0gYCkpOwogICAgY29uc3QgcGVyY2VudCA9IHNwYW4oJzAlIGRvbmUnKTsKICAgIGxpLmFwcGVuZENoaWxkKHBlcmNlbnQpOwoKICAgIG91dHB1dEVsZW1lbnQuYXBwZW5kQ2hpbGQobGkpOwoKICAgIGNvbnN0IGZpbGVEYXRhUHJvbWlzZSA9IG5ldyBQcm9taXNlKChyZXNvbHZlKSA9PiB7CiAgICAgIGNvbnN0IHJlYWRlciA9IG5ldyBGaWxlUmVhZGVyKCk7CiAgICAgIHJlYWRlci5vbmxvYWQgPSAoZSkgPT4gewogICAgICAgIHJlc29sdmUoZS50YXJnZXQucmVzdWx0KTsKICAgICAgfTsKICAgICAgcmVhZGVyLnJlYWRBc0FycmF5QnVmZmVyKGZpbGUpOwogICAgfSk7CiAgICAvLyBXYWl0IGZvciB0aGUgZGF0YSB0byBiZSByZWFkeS4KICAgIGxldCBmaWxlRGF0YSA9IHlpZWxkIHsKICAgICAgcHJvbWlzZTogZmlsZURhdGFQcm9taXNlLAogICAgICByZXNwb25zZTogewogICAgICAgIGFjdGlvbjogJ2NvbnRpbnVlJywKICAgICAgfQogICAgfTsKCiAgICAvLyBVc2UgYSBjaHVua2VkIHNlbmRpbmcgdG8gYXZvaWQgbWVzc2FnZSBzaXplIGxpbWl0cy4gU2VlIGIvNjIxMTU2NjAuCiAgICBsZXQgcG9zaXRpb24gPSAwOwogICAgd2hpbGUgKHBvc2l0aW9uIDwgZmlsZURhdGEuYnl0ZUxlbmd0aCkgewogICAgICBjb25zdCBsZW5ndGggPSBNYXRoLm1pbihmaWxlRGF0YS5ieXRlTGVuZ3RoIC0gcG9zaXRpb24sIE1BWF9QQVlMT0FEX1NJWkUpOwogICAgICBjb25zdCBjaHVuayA9IG5ldyBVaW50OEFycmF5KGZpbGVEYXRhLCBwb3NpdGlvbiwgbGVuZ3RoKTsKICAgICAgcG9zaXRpb24gKz0gbGVuZ3RoOwoKICAgICAgY29uc3QgYmFzZTY0ID0gYnRvYShTdHJpbmcuZnJvbUNoYXJDb2RlLmFwcGx5KG51bGwsIGNodW5rKSk7CiAgICAgIHlpZWxkIHsKICAgICAgICByZXNwb25zZTogewogICAgICAgICAgYWN0aW9uOiAnYXBwZW5kJywKICAgICAgICAgIGZpbGU6IGZpbGUubmFtZSwKICAgICAgICAgIGRhdGE6IGJhc2U2NCwKICAgICAgICB9LAogICAgICB9OwogICAgICBwZXJjZW50LnRleHRDb250ZW50ID0KICAgICAgICAgIGAke01hdGgucm91bmQoKHBvc2l0aW9uIC8gZmlsZURhdGEuYnl0ZUxlbmd0aCkgKiAxMDApfSUgZG9uZWA7CiAgICB9CiAgfQoKICAvLyBBbGwgZG9uZS4KICB5aWVsZCB7CiAgICByZXNwb25zZTogewogICAgICBhY3Rpb246ICdjb21wbGV0ZScsCiAgICB9CiAgfTsKfQoKc2NvcGUuZ29vZ2xlID0gc2NvcGUuZ29vZ2xlIHx8IHt9OwpzY29wZS5nb29nbGUuY29sYWIgPSBzY29wZS5nb29nbGUuY29sYWIgfHwge307CnNjb3BlLmdvb2dsZS5jb2xhYi5fZmlsZXMgPSB7CiAgX3VwbG9hZEZpbGVzLAogIF91cGxvYWRGaWxlc0NvbnRpbnVlLAp9Owp9KShzZWxmKTsK",
              "ok": true,
              "headers": [
                [
                  "content-type",
                  "application/javascript"
                ]
              ],
              "status": 200,
              "status_text": ""
            }
          },
          "base_uri": "https://localhost:8080/",
          "height": 73
        }
      },
      "source": [
        "from google.colab import files\n",
        "uploaded = files.upload()"
      ],
      "execution_count": null,
      "outputs": [
        {
          "output_type": "display_data",
          "data": {
            "text/html": [
              "\n",
              "     <input type=\"file\" id=\"files-fc7bdafb-c842-43b2-877a-0965c3593fd3\" name=\"files[]\" multiple disabled\n",
              "        style=\"border:none\" />\n",
              "     <output id=\"result-fc7bdafb-c842-43b2-877a-0965c3593fd3\">\n",
              "      Upload widget is only available when the cell has been executed in the\n",
              "      current browser session. Please rerun this cell to enable.\n",
              "      </output>\n",
              "      <script src=\"/nbextensions/google.colab/files.js\"></script> "
            ],
            "text/plain": [
              "<IPython.core.display.HTML object>"
            ]
          },
          "metadata": {
            "tags": []
          }
        },
        {
          "output_type": "stream",
          "text": [
            "Saving Elections.csv to Elections.csv\n"
          ],
          "name": "stdout"
        }
      ]
    },
    {
      "cell_type": "code",
      "metadata": {
        "id": "f3x8FMAtLmxF",
        "outputId": "2a5508ad-23c9-425c-8bb9-319eb55f47bb",
        "colab": {
          "base_uri": "https://localhost:8080/",
          "height": 360
        }
      },
      "source": [
        "df = pd.read_csv(\"Elections.csv\",delimiter=';')\n",
        "df.head()"
      ],
      "execution_count": null,
      "outputs": [
        {
          "output_type": "execute_result",
          "data": {
            "text/html": [
              "<div>\n",
              "<style scoped>\n",
              "    .dataframe tbody tr th:only-of-type {\n",
              "        vertical-align: middle;\n",
              "    }\n",
              "\n",
              "    .dataframe tbody tr th {\n",
              "        vertical-align: top;\n",
              "    }\n",
              "\n",
              "    .dataframe thead th {\n",
              "        text-align: right;\n",
              "    }\n",
              "</style>\n",
              "<table border=\"1\" class=\"dataframe\">\n",
              "  <thead>\n",
              "    <tr style=\"text-align: right;\">\n",
              "      <th></th>\n",
              "      <th>Region Index</th>\n",
              "      <th>Subjects of Russia</th>\n",
              "      <th>Unemployment rate. %</th>\n",
              "      <th>Income per capita. RUB</th>\n",
              "      <th>Average salary. RUB per month</th>\n",
              "      <th>Spendings per capita. RUB</th>\n",
              "      <th>State housing. %</th>\n",
              "      <th>Higher Education. %</th>\n",
              "      <th>Number of doctors per 10000 citizens</th>\n",
              "      <th>GRP per capita. RUB</th>\n",
              "      <th>Investment in total capital</th>\n",
              "      <th>Consumer Price Index (CPI)</th>\n",
              "      <th>Average income / min. living wage</th>\n",
              "      <th>Average costs / min. living wage</th>\n",
              "      <th>Votes for United Russia. %</th>\n",
              "    </tr>\n",
              "  </thead>\n",
              "  <tbody>\n",
              "    <tr>\n",
              "      <th>0</th>\n",
              "      <td>1</td>\n",
              "      <td>Adygea</td>\n",
              "      <td>43505.0</td>\n",
              "      <td>12236</td>\n",
              "      <td>12787.4</td>\n",
              "      <td>8361</td>\n",
              "      <td>0.6</td>\n",
              "      <td>4.0</td>\n",
              "      <td>37.9</td>\n",
              "      <td>93548.3</td>\n",
              "      <td>25834</td>\n",
              "      <td>110.1</td>\n",
              "      <td>42036</td>\n",
              "      <td>17168.0</td>\n",
              "      <td>61.002</td>\n",
              "    </tr>\n",
              "    <tr>\n",
              "      <th>1</th>\n",
              "      <td>2</td>\n",
              "      <td>Altai</td>\n",
              "      <td>43685.0</td>\n",
              "      <td>10926</td>\n",
              "      <td>12050.7</td>\n",
              "      <td>8139</td>\n",
              "      <td>43680.0</td>\n",
              "      <td>43694.0</td>\n",
              "      <td>48.7</td>\n",
              "      <td>107282.4</td>\n",
              "      <td>23048</td>\n",
              "      <td>108.2</td>\n",
              "      <td>33604</td>\n",
              "      <td>15707.0</td>\n",
              "      <td>37.174</td>\n",
              "    </tr>\n",
              "    <tr>\n",
              "      <th>2</th>\n",
              "      <td>3</td>\n",
              "      <td>Amur Oblast</td>\n",
              "      <td>43714.0</td>\n",
              "      <td>14064</td>\n",
              "      <td>21207.5</td>\n",
              "      <td>9406</td>\n",
              "      <td>2.0</td>\n",
              "      <td>43590.0</td>\n",
              "      <td>62.9</td>\n",
              "      <td>175927.8</td>\n",
              "      <td>95619</td>\n",
              "      <td>109.4</td>\n",
              "      <td>17199</td>\n",
              "      <td>23743.0</td>\n",
              "      <td>43.543</td>\n",
              "    </tr>\n",
              "    <tr>\n",
              "      <th>3</th>\n",
              "      <td>4</td>\n",
              "      <td>Arkhangelsk Oblast</td>\n",
              "      <td>43503.0</td>\n",
              "      <td>19310</td>\n",
              "      <td>22192.1</td>\n",
              "      <td>11688</td>\n",
              "      <td>43527.0</td>\n",
              "      <td>9.0</td>\n",
              "      <td>56.5</td>\n",
              "      <td>256728.4</td>\n",
              "      <td>63912</td>\n",
              "      <td>109.4</td>\n",
              "      <td>14305</td>\n",
              "      <td>43587.0</td>\n",
              "      <td>31.900</td>\n",
              "    </tr>\n",
              "    <tr>\n",
              "      <th>4</th>\n",
              "      <td>5</td>\n",
              "      <td>Astrakhan Oblast</td>\n",
              "      <td>43532.0</td>\n",
              "      <td>14641</td>\n",
              "      <td>16582.1</td>\n",
              "      <td>10651</td>\n",
              "      <td>43586.0</td>\n",
              "      <td>43472.0</td>\n",
              "      <td>68.2</td>\n",
              "      <td>131400.1</td>\n",
              "      <td>56338</td>\n",
              "      <td>109.8</td>\n",
              "      <td>20852</td>\n",
              "      <td>31778.0</td>\n",
              "      <td>60.170</td>\n",
              "    </tr>\n",
              "  </tbody>\n",
              "</table>\n",
              "</div>"
            ],
            "text/plain": [
              "   Region Index  ... Votes for United Russia. %\n",
              "0             1  ...                     61.002\n",
              "1             2  ...                     37.174\n",
              "2             3  ...                     43.543\n",
              "3             4  ...                     31.900\n",
              "4             5  ...                     60.170\n",
              "\n",
              "[5 rows x 15 columns]"
            ]
          },
          "metadata": {
            "tags": []
          },
          "execution_count": 17
        }
      ]
    },
    {
      "cell_type": "markdown",
      "metadata": {
        "id": "e6HPUP-iLmxT"
      },
      "source": [
        "Будем решать задачу регрессии: необходимо предсказать процент голосов за Единую Россию в каждом регионе по различным характеристикам уровня жизни в регионе.\n",
        "\n",
        "## Шаг 1. \n",
        "Создайте матрицу X объект-признак и целевой вектор y (\"Votes for United Russia. %\")"
      ]
    },
    {
      "cell_type": "code",
      "metadata": {
        "id": "2_Puhu05LmxV"
      },
      "source": [
        "X = df.copy()\n",
        "y = df['Votes for United Russia. %']\n",
        "del X['Votes for United Russia. %']"
      ],
      "execution_count": null,
      "outputs": []
    },
    {
      "cell_type": "markdown",
      "metadata": {
        "id": "lZMRRxHmLmx2"
      },
      "source": [
        "## Шаг 2.\n",
        "Оставьте в матрице X только столбцы 'Unemployment rate. %', 'Spendings per capita. RUB', 'Number of doctors per 10000 citizens', 'Average salary. RUB per month'"
      ]
    },
    {
      "cell_type": "code",
      "metadata": {
        "id": "8KAQS9nGLmx4"
      },
      "source": [
        "cols = ['Region Index', 'Subjects of Russia', 'Income per capita. RUB', 'State housing. %', 'Higher Education. %','GRP per capita. RUB', 'Investment in total capital', 'Consumer Price Index (CPI)', 'Average income / min. living wage', 'Average costs / min. living wage']\n",
        "X.drop(cols, inplace=True, axis =1)"
      ],
      "execution_count": null,
      "outputs": []
    },
    {
      "cell_type": "code",
      "metadata": {
        "id": "QLmHY2zrOgd3",
        "outputId": "340025cf-d069-49ae-dd70-1b5f59bfcda4",
        "colab": {
          "base_uri": "https://localhost:8080/",
          "height": 323
        }
      },
      "source": [
        "X.head()"
      ],
      "execution_count": null,
      "outputs": [
        {
          "output_type": "execute_result",
          "data": {
            "text/html": [
              "<div>\n",
              "<style scoped>\n",
              "    .dataframe tbody tr th:only-of-type {\n",
              "        vertical-align: middle;\n",
              "    }\n",
              "\n",
              "    .dataframe tbody tr th {\n",
              "        vertical-align: top;\n",
              "    }\n",
              "\n",
              "    .dataframe thead th {\n",
              "        text-align: right;\n",
              "    }\n",
              "</style>\n",
              "<table border=\"1\" class=\"dataframe\">\n",
              "  <thead>\n",
              "    <tr style=\"text-align: right;\">\n",
              "      <th></th>\n",
              "      <th>Region Index</th>\n",
              "      <th>Subjects of Russia</th>\n",
              "      <th>Unemployment rate. %</th>\n",
              "      <th>Income per capita. RUB</th>\n",
              "      <th>Average salary. RUB per month</th>\n",
              "      <th>Spendings per capita. RUB</th>\n",
              "      <th>State housing. %</th>\n",
              "      <th>Higher Education. %</th>\n",
              "      <th>Number of doctors per 10000 citizens</th>\n",
              "      <th>GRP per capita. RUB</th>\n",
              "      <th>Investment in total capital</th>\n",
              "      <th>Consumer Price Index (CPI)</th>\n",
              "      <th>Average income / min. living wage</th>\n",
              "      <th>Average costs / min. living wage</th>\n",
              "    </tr>\n",
              "  </thead>\n",
              "  <tbody>\n",
              "    <tr>\n",
              "      <th>0</th>\n",
              "      <td>1</td>\n",
              "      <td>Adygea</td>\n",
              "      <td>43505.0</td>\n",
              "      <td>12236</td>\n",
              "      <td>12787.4</td>\n",
              "      <td>8361</td>\n",
              "      <td>0.6</td>\n",
              "      <td>4.0</td>\n",
              "      <td>37.9</td>\n",
              "      <td>93548.3</td>\n",
              "      <td>25834</td>\n",
              "      <td>110.1</td>\n",
              "      <td>42036</td>\n",
              "      <td>17168.0</td>\n",
              "    </tr>\n",
              "    <tr>\n",
              "      <th>1</th>\n",
              "      <td>2</td>\n",
              "      <td>Altai</td>\n",
              "      <td>43685.0</td>\n",
              "      <td>10926</td>\n",
              "      <td>12050.7</td>\n",
              "      <td>8139</td>\n",
              "      <td>43680.0</td>\n",
              "      <td>43694.0</td>\n",
              "      <td>48.7</td>\n",
              "      <td>107282.4</td>\n",
              "      <td>23048</td>\n",
              "      <td>108.2</td>\n",
              "      <td>33604</td>\n",
              "      <td>15707.0</td>\n",
              "    </tr>\n",
              "    <tr>\n",
              "      <th>2</th>\n",
              "      <td>3</td>\n",
              "      <td>Amur Oblast</td>\n",
              "      <td>43714.0</td>\n",
              "      <td>14064</td>\n",
              "      <td>21207.5</td>\n",
              "      <td>9406</td>\n",
              "      <td>2.0</td>\n",
              "      <td>43590.0</td>\n",
              "      <td>62.9</td>\n",
              "      <td>175927.8</td>\n",
              "      <td>95619</td>\n",
              "      <td>109.4</td>\n",
              "      <td>17199</td>\n",
              "      <td>23743.0</td>\n",
              "    </tr>\n",
              "    <tr>\n",
              "      <th>3</th>\n",
              "      <td>4</td>\n",
              "      <td>Arkhangelsk Oblast</td>\n",
              "      <td>43503.0</td>\n",
              "      <td>19310</td>\n",
              "      <td>22192.1</td>\n",
              "      <td>11688</td>\n",
              "      <td>43527.0</td>\n",
              "      <td>9.0</td>\n",
              "      <td>56.5</td>\n",
              "      <td>256728.4</td>\n",
              "      <td>63912</td>\n",
              "      <td>109.4</td>\n",
              "      <td>14305</td>\n",
              "      <td>43587.0</td>\n",
              "    </tr>\n",
              "    <tr>\n",
              "      <th>4</th>\n",
              "      <td>5</td>\n",
              "      <td>Astrakhan Oblast</td>\n",
              "      <td>43532.0</td>\n",
              "      <td>14641</td>\n",
              "      <td>16582.1</td>\n",
              "      <td>10651</td>\n",
              "      <td>43586.0</td>\n",
              "      <td>43472.0</td>\n",
              "      <td>68.2</td>\n",
              "      <td>131400.1</td>\n",
              "      <td>56338</td>\n",
              "      <td>109.8</td>\n",
              "      <td>20852</td>\n",
              "      <td>31778.0</td>\n",
              "    </tr>\n",
              "  </tbody>\n",
              "</table>\n",
              "</div>"
            ],
            "text/plain": [
              "   Region Index  ... Average costs / min. living wage\n",
              "0             1  ...                          17168.0\n",
              "1             2  ...                          15707.0\n",
              "2             3  ...                          23743.0\n",
              "3             4  ...                          43587.0\n",
              "4             5  ...                          31778.0\n",
              "\n",
              "[5 rows x 14 columns]"
            ]
          },
          "metadata": {
            "tags": []
          },
          "execution_count": 25
        }
      ]
    },
    {
      "cell_type": "markdown",
      "metadata": {
        "id": "veiwkCIJLmyt"
      },
      "source": [
        "## Шаг 3.\n",
        "Разбейте данные на train и test (доля тестовых данных - 30%)."
      ]
    },
    {
      "cell_type": "code",
      "metadata": {
        "id": "KO3pdEPvLmyz"
      },
      "source": [
        "ind_train, ind_test = train_test_split(range(len(X)), test_size=0.3, random_state=0)\n",
        "X_train = X.iloc[ind_train]\n",
        "y_train = y[ind_train]\n",
        "X_test = X.iloc[ind_test]\n",
        "y_test = y[ind_test]"
      ],
      "execution_count": null,
      "outputs": []
    },
    {
      "cell_type": "markdown",
      "metadata": {
        "id": "-tjK7Q39Lmy_"
      },
      "source": [
        "## Шаг 4.\n",
        "Обучите линейную регрессию на тренировочных данных и сделайте предсказания на train и на test."
      ]
    },
    {
      "cell_type": "code",
      "metadata": {
        "id": "b3_mC9JiLmzA"
      },
      "source": [
        "scaler = StandardScaler().fit(X_train)\n",
        "X_scaled=scaler.transform(X)\n",
        "X_train = scaler.transform(X_train)\n",
        "X_test = scaler.transform(X_test)\n",
        "\n",
        "regressor = LinearRegression()\n",
        "regressor.fit(X_train, y_train)\n",
        "\n",
        "y_pred_train = regressor.predict(X_train)\n",
        "y_pred_test = regressor.predict(X_test)"
      ],
      "execution_count": null,
      "outputs": []
    },
    {
      "cell_type": "markdown",
      "metadata": {
        "id": "ZA-0EeKPLmzN"
      },
      "source": [
        "## Шаг 5.\n",
        "Выведите на экран ошибку MSE на train и на test, затем выведите на экран ошибку r2 на train и test.  "
      ]
    },
    {
      "cell_type": "code",
      "metadata": {
        "id": "BC9I4zZWLmzP",
        "outputId": "fa5d9117-32a3-48a0-fff5-ced139ca4271",
        "colab": {
          "base_uri": "https://localhost:8080/"
        }
      },
      "source": [
        "print('MSE: train =', mean_squared_error(y_train, y_pred_train), ', test =', mean_squared_error(y_test, y_pred_test))\n",
        "print('R2: train =', r2_score(y_train, y_pred_train), ', test =', r2_score(y_test, y_pred_test))"
      ],
      "execution_count": null,
      "outputs": [
        {
          "output_type": "stream",
          "text": [
            "MSE: train = 230.13873586087146 , test = 247.48618961500324\n",
            "R2: train = 0.17739672347911017 , test = 0.13827291604639314\n"
          ],
          "name": "stdout"
        }
      ]
    },
    {
      "cell_type": "markdown",
      "metadata": {
        "id": "hrUkV8ODLm0G"
      },
      "source": [
        "## Шаг 6.\n",
        "Вычислите среднее качество (r2) модели на кросс-валидации с k=5 фолдами."
      ]
    },
    {
      "cell_type": "code",
      "metadata": {
        "id": "cbPcvH6nLm0M",
        "outputId": "15f9002b-7472-4fd6-b7e4-370473c8f009",
        "colab": {
          "base_uri": "https://localhost:8080/"
        }
      },
      "source": [
        "print('R2 =', cross_val_score(LinearRegression(), X, y, cv=5, scoring='r2').mean())"
      ],
      "execution_count": null,
      "outputs": [
        {
          "output_type": "stream",
          "text": [
            "R2 = -0.27874090603166357\n"
          ],
          "name": "stdout"
        }
      ]
    },
    {
      "cell_type": "markdown",
      "metadata": {
        "id": "oBBv1t8nLm0h"
      },
      "source": [
        "## Шаг 7.\n",
        "Теперь примените линейную регрессию с L1-регуляризацией (Lasso) для данной задачи. Объявите модель и подберите параметр регуляризации alpha по сетке. Ищите alpha в диапазоне (0.1, 1.1) с шагом 0.1. \n",
        "\n",
        "Осуществите подбор параметра alpha по тренировочным данным (Xtrain, ytrain)."
      ]
    },
    {
      "cell_type": "code",
      "metadata": {
        "id": "apFKPGeDLm0j"
      },
      "source": [
        "from sklearn.linear_model import Lasso\n",
        "\n",
        "r2_best=0\n",
        "for a in np.arange(0.1, 1.1, 0.1):\n",
        "    regressor2 = Lasso(alpha=a)\n",
        "    regressor2.fit(X_train, y_train)\n",
        "    y_pred2 = regressor2.predict(X_train)\n",
        "    r2_now = r2_score(y_train, y_pred2)\n",
        "    if r2_best<r2_now:\n",
        "      r2_best = r2_now\n",
        "      best_estimation = regressor2.coef_"
      ],
      "execution_count": null,
      "outputs": []
    },
    {
      "cell_type": "markdown",
      "metadata": {
        "id": "skKlZvFzLm01"
      },
      "source": [
        "## Шаг 8.\n",
        "Выведите наилучший алгоритм и наилучшее качество по результатам подбора alpha (best_estimator_ и best_score_)."
      ]
    },
    {
      "cell_type": "code",
      "metadata": {
        "id": "ob3rhT1kLm02",
        "outputId": "1e246415-4b43-48bf-eba4-bfa07b31c34d",
        "colab": {
          "base_uri": "https://localhost:8080/"
        }
      },
      "source": [
        "print(best_estimation)\n",
        "print(r2_best)"
      ],
      "execution_count": null,
      "outputs": [
        {
          "output_type": "stream",
          "text": [
            "[-4.63861284  3.81315838 -3.94917155  2.48943014]\n",
            "0.17709038277964817\n"
          ],
          "name": "stdout"
        }
      ]
    },
    {
      "cell_type": "markdown",
      "metadata": {
        "id": "eUzmkNfLLm12"
      },
      "source": [
        "## Шаг 9.\n",
        "\n",
        "С помощью найденного best_estimator_ сделайте предсказание на тестовых данных и выведите на экран r2-score на тесте."
      ]
    },
    {
      "cell_type": "code",
      "metadata": {
        "id": "VHo56D1BLm13",
        "outputId": "6a0610d1-3155-4479-df83-77cc324e16b1",
        "colab": {
          "base_uri": "https://localhost:8080/"
        }
      },
      "source": [
        "y_pred2 = regressor2.predict(X_test)\n",
        "print('R2 =', r2_score(y_test, y_pred2))\n"
      ],
      "execution_count": null,
      "outputs": [
        {
          "output_type": "stream",
          "text": [
            "R2 = 0.1563671804782788\n"
          ],
          "name": "stdout"
        }
      ]
    },
    {
      "cell_type": "markdown",
      "metadata": {
        "id": "6vYYnpGfLm18"
      },
      "source": [
        "## Шаг 10.\n",
        "\n",
        "Попробуем улучшить качество модели за счет добавления полиномиальных признаков. Создайте pipeline, состоящий из добавления полиномиальных признаков степени 2, а затем применения линейной регрессии.\n",
        "\n",
        "Затем вычислите r2-score этой модели на кросс валидации с пятью фолдами."
      ]
    },
    {
      "cell_type": "code",
      "metadata": {
        "id": "iZpB5-h2Lm1_",
        "outputId": "90ee1eca-9fc9-41c3-c8d2-15168c77b81e",
        "colab": {
          "base_uri": "https://localhost:8080/"
        }
      },
      "source": [
        "from sklearn.preprocessing import StandardScaler\n",
        "from sklearn.linear_model import LassoCV\n",
        "\n",
        "pf = PolynomialFeatures(2)\n",
        "X_polynomial = pf.fit_transform(X_scaled)\n",
        "X_train_poly = pf.fit_transform(X_train)\n",
        "X_test_poly = pf.fit_transform(X_test)\n",
        "\n",
        "print('R2 =', cross_val_score(LinearRegression(), X_polynomial, y, cv=5, scoring='r2').mean())\n"
      ],
      "execution_count": null,
      "outputs": [
        {
          "output_type": "stream",
          "text": [
            "R2 = -178880.74682007037\n"
          ],
          "name": "stdout"
        }
      ]
    },
    {
      "cell_type": "markdown",
      "metadata": {
        "id": "v18mIusILm2F"
      },
      "source": [
        "## Шаг 11.\n",
        "Обучите модель (pipeline) на тренировочных данных и сделайте предсказания для train и test, затем выведите на экран r2-score и MSE на тренировочных и на тестовых данных."
      ]
    },
    {
      "cell_type": "code",
      "metadata": {
        "id": "zUv0CJhOLm2G",
        "outputId": "70f53980-2ea1-4cb9-8401-194b5b600252",
        "colab": {
          "base_uri": "https://localhost:8080/"
        }
      },
      "source": [
        "regressor = LinearRegression()\n",
        "regressor.fit(X_train_poly, y_train)\n",
        "\n",
        "y_pred_train = regressor.predict(X_train_poly)\n",
        "y_pred_test = regressor.predict(X_test_poly)\n",
        "\n",
        "print('MSE: train =', mean_squared_error(y_train, y_pred_train), ', test =', mean_squared_error(y_test, y_pred_test))\n",
        "print('R2: train =', r2_score(y_train, y_pred_train), ', test =', r2_score(y_test, y_pred_test))"
      ],
      "execution_count": null,
      "outputs": [
        {
          "output_type": "stream",
          "text": [
            "MSE: train = 129.13983280293365 , test = 340.71353377660756\n",
            "R2: train = 0.538405174619217 , test = -0.18633722706540023\n"
          ],
          "name": "stdout"
        }
      ]
    },
    {
      "cell_type": "markdown",
      "metadata": {
        "id": "Rst64GevLm2L"
      },
      "source": [
        "## Сделайте выводы. Для этого ответьте на вопросы:\n",
        "\n",
        "1) Хорошее ли качество показала исходная модель (линейная регрессия без регуляризации)? Является ли эта модель переобученной?\n",
        "\n",
        "2) Помогла ли L1-регуляризация улучшить качество модели?\n",
        "\n",
        "3) Помогло ли добавление полиномов второй степени улучшить качество модели? Как добавление новых признаков повлияло на переобучение?"
      ]
    },
    {
      "cell_type": "code",
      "metadata": {
        "id": "UjzyM_H9Lm2M"
      },
      "source": [
        "1) Исходная модель получилась недостаточно хорошая, поскольку R2 небольшой.\n",
        "В модели наблюдается незначительное переобучение, о чем можно судить по сократившемуся R2 на тестовых данных по сравнению с тренировачными данными.\n",
        "2) L1-регуляризация не помогла улучшить исходную модель - R2 получился отрицательным.\n",
        "3) Добавление полиномов второй степени так же не принесло серьёзных улучшений - хотя для тренировачных данных R2 возрос более чем на половину, для тестовых данных он отрицателен. "
      ],
      "execution_count": null,
      "outputs": []
    },
    {
      "cell_type": "markdown",
      "metadata": {
        "id": "-Yi7kbSFLm2T"
      },
      "source": [
        "### *Попытайтесь улучшить модель (добейтесь наилучшего качества) - можно использовать любые методы."
      ]
    },
    {
      "cell_type": "markdown",
      "metadata": {
        "id": "VCkz6Ji7Lm2U"
      },
      "source": [
        "При улучшении качества r2 на 0.1-0.2 +1 балл, при большем улучшении +2 балла (дополнительно к 5 баллам за основную часть)."
      ]
    },
    {
      "cell_type": "code",
      "metadata": {
        "id": "71nR7vrcLm2V"
      },
      "source": [
        "#your code here"
      ],
      "execution_count": null,
      "outputs": []
    }
  ]
}