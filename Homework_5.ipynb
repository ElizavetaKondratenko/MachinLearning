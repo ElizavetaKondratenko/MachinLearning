{
  "nbformat": 4,
  "nbformat_minor": 0,
  "metadata": {
    "kernelspec": {
      "display_name": "Python 3",
      "language": "python",
      "name": "python3"
    },
    "language_info": {
      "codemirror_mode": {
        "name": "ipython",
        "version": 3
      },
      "file_extension": ".py",
      "mimetype": "text/x-python",
      "name": "python",
      "nbconvert_exporter": "python",
      "pygments_lexer": "ipython3",
      "version": "3.7.6"
    },
    "colab": {
      "name": "Копия блокнота \"homework_5.ipynb\"",
      "provenance": [],
      "include_colab_link": true
    }
  },
  "cells": [
    {
      "cell_type": "markdown",
      "metadata": {
        "id": "view-in-github",
        "colab_type": "text"
      },
      "source": [
        "<a href=\"https://colab.research.google.com/github/ElizavetaKondratenko/MachinLearning/blob/main/Homework_5.ipynb\" target=\"_parent\"><img src=\"https://colab.research.google.com/assets/colab-badge.svg\" alt=\"Open In Colab\"/></a>"
      ]
    },
    {
      "cell_type": "markdown",
      "metadata": {
        "id": "0A-JcJZw0vHI"
      },
      "source": [
        "## Домашняя работа 5. \n",
        "![](https://newapplift-production.s3.amazonaws.com/comfy/cms/files/files/000/001/201/original/machine-learning-robots-dilbert.gif)\n",
        "\n",
        "Результат домашней работы − отчет. Мы предпочитаем принимать отчеты в формате ноутбуков Jupyter (ipynb-файл). Постарайтесь сделать ваш отчет интересным рассказом, последовательно отвечающим на вопросы из заданий. Помимо ответов на вопросы, в отчете так же должен быть код, однако чем меньше кода, тем лучше всем: нам − меньше проверять, вам — проще найти ошибку или дополнить эксперимент. При проверке оценивается четкость ответов на вопросы, аккуратность отчета и кода.\n",
        "\n",
        "### Оценивание и штрафы\n",
        "Каждая из задач имеет определенную «стоимость» (указана в скобках около задачи). Максимально допустимая оценка за работу — 10 баллов. Сдавать задание после указанного срока сдачи нельзя. «Похожие» решения считаются плагиатом и все задействованные студенты (в том числе те, у кого списали) не могут получить за него больше 0 баллов и понижают карму. Если вы нашли решение какого-то из заданий в открытом источнике, необходимо прислать ссылку на этот источник (скорее всего вы будете не единственным, кто это нашел, поэтому чтобы исключить подозрение в плагиате, нам необходима ссылка на источник)."
      ]
    },
    {
      "cell_type": "markdown",
      "metadata": {
        "id": "NwV_q-M00vHK"
      },
      "source": [
        "## Данные\n",
        "\n",
        "\n",
        "В этой домашней работе мы научимся обучать модели машинного обучения, корректно ставить эксперименты, подбирать гиперпараметры, сравнивать и смешивать модели. Вам предлагается решить задачу бинарной классификации, а именно построить алгоритм, определяющий превысит ли средний заработок человека порог $50k. Каждый объект выборки — человек, для которого известны следующие признаки:\n",
        " - age\n",
        " - workclass\n",
        " - fnlwgt\n",
        " - education\n",
        " - education-num\n",
        " - marital-status\n",
        " - occupation\n",
        " - relationship\n",
        " - race\n",
        " - sex\n",
        " - capital-gain\n",
        " - capital-loss\n",
        " - hours-per-week\n",
        " \n",
        "Более подробно про признаки можно почитать [здесь](http://archive.ics.uci.edu/ml/machine-learning-databases/adult/adult.names). Целевой признак записан в переменной *>50K,<=50K*."
      ]
    },
    {
      "cell_type": "markdown",
      "metadata": {
        "id": "a40oRmHb0vHM"
      },
      "source": [
        "## Метрика качества\n",
        "\n",
        "Обучение и оценка качества модели производится на независимых множествах примеров. Как правило, имеющующиеся примеры разбивают на два подмножества: обучение (train) и контроль (test). Выбор пропорции разбиения — компромисс. Действительно, большой размер обучения ведет к более качественным алгоритмам, но бОльшему шуму в оценке модели на контроле. И наоборот, большой размер контрольной выборки ведет к менее шумной оценке качества, однако модели получаются менее точными.\n",
        "\n",
        "Многие модели классификации получают оценку принадлежности положительному классу $\\tilde{y}(x) \\in R$ (например, вероятность принадлежности классу 1). Затем принимают решение о классе объекта путем сравнения оценки с некоторым порогом $\\theta$:\n",
        "\n",
        "$y(x) = +1$,  если $\\tilde{y}(x) \\geq \\theta$, $y(x) = -1$, если $\\tilde{y}(x) < \\theta$\n",
        "\n",
        "В этом случае можно рассматривать метрики, которые умеют работать с исходным ответом классификатора. В задании мы будем работать с метрикой AUC-ROC. Детального понимания принципов работы метрики AUC-ROC для выполнения лабораторной не требуется."
      ]
    },
    {
      "cell_type": "markdown",
      "metadata": {
        "id": "bSFIuyCH0vHN"
      },
      "source": [
        "## Подбор гиперпараметров модели\n",
        "\n",
        "В задачах машинного обучения следует различать параметры модели и гиперпараметры (структурные параметры). Обычно параметры модели настраиваются в ходе обучения (например, веса в линейной модели или структура решающего дерева), в то время как гиперпараметры задаются заранее (например, регуляризация в линейной модели или максимальная глубина решающего дерева). Каждая модель обычно имеет множество гиперпараметров, и нет универсальных наборов гиперпараметров, оптимально работающих во всех задачах, для каждой задачи нужно подбирать свой набор.\n",
        "\n",
        "Для оптимизации гиперпараметров модели часто используют _перебор по сетке (grid search)_: для каждого гиперпараметра выбирается несколько значений, перебираются все комбинации значений и выбирается комбинация, на которой модель показывает лучшее качество (с точки зрения метрики, которая оптимизируется). Однако в этом случае нужно грамотно оценивать построенную модель, а именно делать разбиение на обучающую и тестовую выборку. Есть несколько схем, как это можно реализовать: \n",
        "\n",
        " - Разбить имеющуюся выборку на обучающую и тестовую. В этом случае сравнение большого числа моделей при переборе параметров приводит к ситуации, когда лучшая на тестовой подвыборке модель не сохраняет свои качества на новых данных. Можно сказать, что происходит _переобучение_ на тестовую выборку.\n",
        " - Для устранения описанной выше проблемы, можно разбить данные на 3 непересекающихся подвыборки: обучение (`train`), валидация (`validation`) и контроль (`test`). Валидационную подвыборку используют для сравнения моделей, а `test` — для окончательной оценки качества и сравнения семейств моделей с подобранными параметрами.\n",
        " - Другой способ сравнения моделей — [кросс-валидация](http://en.wikipedia.org/wiki/Cross-validation_(statistics). Существуют различные схемы кросс-валидации:\n",
        "  - Leave-One-Out\n",
        "  - K-Fold\n",
        "  - Многократное случайное разбиение выборки\n",
        "  \n",
        "Кросс-валидация вычислительно затратна, особенно если вы делаете перебор по сетке с очень большим числом комбинации. С учетом конечности времени на выполнение задания, возникает ряд компромиссов: \n",
        "  - сетку можно делать более разреженной, перебирая меньше значений каждого параметра; однако, надо не забывать, что в таком случае можно пропустить хорошую комбинацию параметров;\n",
        "  - кросс-валидацию можно делать с меньшим числом разбиений или фолдов, но в таком случае оценка качества кросс-валидации становится более шумной и увеличивается риск выбрать неоптимальный набор параметров из-за случайности разбиения;\n",
        "  - параметры можно оптимизировать последовательно (жадно) — один за другим, а не перебирать все комбинации; такая стратегия не всегда приводит к оптимальному набору;\n",
        "  - перебирать не все комбинации параметров, а небольшое число случайно выбранных."
      ]
    },
    {
      "cell_type": "markdown",
      "metadata": {
        "id": "b3Yl40go0vHO"
      },
      "source": [
        "## Задание\n",
        "\n",
        "Прежде чем приступать к заданию, рекомендуем в начале прочитать его до конца."
      ]
    },
    {
      "cell_type": "markdown",
      "metadata": {
        "id": "NElLPixl0vHQ"
      },
      "source": [
        "Загрузите набор данных *data.adult.csv*. Чтобы лучше понимать, с чем вы работаете/корректно ли вы загрузили данные можно вывести несколько первых строк на экран."
      ]
    },
    {
      "cell_type": "code",
      "metadata": {
        "id": "yenHIptX1CcU"
      },
      "source": [
        "import numpy as np\n",
        "import pandas as pd\n",
        "import matplotlib.pyplot as plt\n",
        "import seaborn as sns\n",
        "from sklearn.model_selection import GridSearchCV\n",
        "from sklearn.neighbors import KNeighborsClassifier\n",
        "from sklearn.tree import DecisionTreeClassifier\n",
        "from sklearn.linear_model import SGDClassifier\n",
        "from sklearn.metrics import roc_auc_score\n",
        "from sklearn.model_selection import cross_validate as cv\n",
        "from sklearn.ensemble import RandomForestClassifier\n",
        "from sklearn.model_selection import KFold\n",
        "from sklearn.model_selection import cross_val_score\n",
        "from sklearn import preprocessing\n",
        "from scaler import "
      ],
      "execution_count": null,
      "outputs": []
    },
    {
      "cell_type": "code",
      "metadata": {
        "id": "O5wV6E2V0vHR",
        "outputId": "0c19ab2b-adc7-44e3-f7fe-d9ba3bb945a2",
        "colab": {
          "resources": {
            "http://localhost:8080/nbextensions/google.colab/files.js": {
              "data": "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",
              "ok": true,
              "headers": [
                [
                  "content-type",
                  "application/javascript"
                ]
              ],
              "status": 200,
              "status_text": ""
            }
          },
          "base_uri": "https://localhost:8080/",
          "height": 259
        }
      },
      "source": [
        "from google.colab import files\n",
        "uploaded = files.upload()\n",
        "data = pd.read_csv('data.adult.csv')\n",
        "data.head()"
      ],
      "execution_count": null,
      "outputs": [
        {
          "output_type": "display_data",
          "data": {
            "text/html": [
              "\n",
              "     <input type=\"file\" id=\"files-1c4e613d-e134-47ee-8546-171de270b5a5\" name=\"files[]\" multiple disabled\n",
              "        style=\"border:none\" />\n",
              "     <output id=\"result-1c4e613d-e134-47ee-8546-171de270b5a5\">\n",
              "      Upload widget is only available when the cell has been executed in the\n",
              "      current browser session. Please rerun this cell to enable.\n",
              "      </output>\n",
              "      <script src=\"/nbextensions/google.colab/files.js\"></script> "
            ],
            "text/plain": [
              "<IPython.core.display.HTML object>"
            ]
          },
          "metadata": {
            "tags": []
          }
        },
        {
          "output_type": "stream",
          "text": [
            "Saving data.adult.csv to data.adult.csv\n"
          ],
          "name": "stdout"
        },
        {
          "output_type": "execute_result",
          "data": {
            "text/html": [
              "<div>\n",
              "<style scoped>\n",
              "    .dataframe tbody tr th:only-of-type {\n",
              "        vertical-align: middle;\n",
              "    }\n",
              "\n",
              "    .dataframe tbody tr th {\n",
              "        vertical-align: top;\n",
              "    }\n",
              "\n",
              "    .dataframe thead th {\n",
              "        text-align: right;\n",
              "    }\n",
              "</style>\n",
              "<table border=\"1\" class=\"dataframe\">\n",
              "  <thead>\n",
              "    <tr style=\"text-align: right;\">\n",
              "      <th></th>\n",
              "      <th>age</th>\n",
              "      <th>workclass</th>\n",
              "      <th>fnlwgt</th>\n",
              "      <th>education</th>\n",
              "      <th>education-num</th>\n",
              "      <th>marital-status</th>\n",
              "      <th>occupation</th>\n",
              "      <th>relationship</th>\n",
              "      <th>race</th>\n",
              "      <th>sex</th>\n",
              "      <th>capital-gain</th>\n",
              "      <th>capital-loss</th>\n",
              "      <th>hours-per-week</th>\n",
              "      <th>&gt;50K,&lt;=50K</th>\n",
              "    </tr>\n",
              "  </thead>\n",
              "  <tbody>\n",
              "    <tr>\n",
              "      <th>0</th>\n",
              "      <td>34</td>\n",
              "      <td>Local-gov</td>\n",
              "      <td>284843</td>\n",
              "      <td>HS-grad</td>\n",
              "      <td>9</td>\n",
              "      <td>Never-married</td>\n",
              "      <td>Farming-fishing</td>\n",
              "      <td>Not-in-family</td>\n",
              "      <td>Black</td>\n",
              "      <td>Male</td>\n",
              "      <td>594</td>\n",
              "      <td>0</td>\n",
              "      <td>60</td>\n",
              "      <td>&lt;=50K</td>\n",
              "    </tr>\n",
              "    <tr>\n",
              "      <th>1</th>\n",
              "      <td>40</td>\n",
              "      <td>Private</td>\n",
              "      <td>190290</td>\n",
              "      <td>Some-college</td>\n",
              "      <td>10</td>\n",
              "      <td>Divorced</td>\n",
              "      <td>Sales</td>\n",
              "      <td>Not-in-family</td>\n",
              "      <td>White</td>\n",
              "      <td>Male</td>\n",
              "      <td>0</td>\n",
              "      <td>0</td>\n",
              "      <td>40</td>\n",
              "      <td>&lt;=50K</td>\n",
              "    </tr>\n",
              "    <tr>\n",
              "      <th>2</th>\n",
              "      <td>36</td>\n",
              "      <td>Local-gov</td>\n",
              "      <td>177858</td>\n",
              "      <td>Bachelors</td>\n",
              "      <td>13</td>\n",
              "      <td>Married-civ-spouse</td>\n",
              "      <td>Prof-specialty</td>\n",
              "      <td>Own-child</td>\n",
              "      <td>White</td>\n",
              "      <td>Male</td>\n",
              "      <td>0</td>\n",
              "      <td>0</td>\n",
              "      <td>40</td>\n",
              "      <td>&lt;=50K</td>\n",
              "    </tr>\n",
              "    <tr>\n",
              "      <th>3</th>\n",
              "      <td>22</td>\n",
              "      <td>Private</td>\n",
              "      <td>184756</td>\n",
              "      <td>Some-college</td>\n",
              "      <td>10</td>\n",
              "      <td>Never-married</td>\n",
              "      <td>Sales</td>\n",
              "      <td>Own-child</td>\n",
              "      <td>White</td>\n",
              "      <td>Female</td>\n",
              "      <td>0</td>\n",
              "      <td>0</td>\n",
              "      <td>30</td>\n",
              "      <td>&lt;=50K</td>\n",
              "    </tr>\n",
              "    <tr>\n",
              "      <th>4</th>\n",
              "      <td>47</td>\n",
              "      <td>Private</td>\n",
              "      <td>149700</td>\n",
              "      <td>Bachelors</td>\n",
              "      <td>13</td>\n",
              "      <td>Married-civ-spouse</td>\n",
              "      <td>Tech-support</td>\n",
              "      <td>Husband</td>\n",
              "      <td>White</td>\n",
              "      <td>Male</td>\n",
              "      <td>15024</td>\n",
              "      <td>0</td>\n",
              "      <td>40</td>\n",
              "      <td>&gt;50K</td>\n",
              "    </tr>\n",
              "  </tbody>\n",
              "</table>\n",
              "</div>"
            ],
            "text/plain": [
              "   age  workclass  fnlwgt  ... capital-loss  hours-per-week >50K,<=50K\n",
              "0   34  Local-gov  284843  ...            0              60      <=50K\n",
              "1   40    Private  190290  ...            0              40      <=50K\n",
              "2   36  Local-gov  177858  ...            0              40      <=50K\n",
              "3   22    Private  184756  ...            0              30      <=50K\n",
              "4   47    Private  149700  ...            0              40       >50K\n",
              "\n",
              "[5 rows x 14 columns]"
            ]
          },
          "metadata": {
            "tags": []
          },
          "execution_count": 2
        }
      ]
    },
    {
      "cell_type": "markdown",
      "metadata": {
        "id": "WIWPUMn30vHb"
      },
      "source": [
        "Иногда в данных встречаются пропуски. Как задаются пропуски обычно либо прописывается в описании к данным, либо просто на месте пропуска после чтения данных оказывается значение numpy.nan. Более подробно о работе с пропусками в Pandas можно прочитать например [здесь](http://pandas.pydata.org/pandas-docs/stable/missing_data.html). \n",
        "\n",
        "В данном датасете пропущенные значения обозначены как \"?\". \n",
        "\n",
        "**(0.5 балла)** Найдите все признаки, имеющие пропущенные значения. Удалите из выборки все объекты с пропусками."
      ]
    },
    {
      "cell_type": "code",
      "metadata": {
        "id": "M36y2AZK0vHc",
        "outputId": "029e92c6-23fe-4093-b387-8ba968acf83e",
        "colab": {
          "base_uri": "https://localhost:8080/",
          "height": 419
        }
      },
      "source": [
        "data.replace('?', np.nan)\n",
        "data.dropna()"
      ],
      "execution_count": null,
      "outputs": [
        {
          "output_type": "execute_result",
          "data": {
            "text/html": [
              "<div>\n",
              "<style scoped>\n",
              "    .dataframe tbody tr th:only-of-type {\n",
              "        vertical-align: middle;\n",
              "    }\n",
              "\n",
              "    .dataframe tbody tr th {\n",
              "        vertical-align: top;\n",
              "    }\n",
              "\n",
              "    .dataframe thead th {\n",
              "        text-align: right;\n",
              "    }\n",
              "</style>\n",
              "<table border=\"1\" class=\"dataframe\">\n",
              "  <thead>\n",
              "    <tr style=\"text-align: right;\">\n",
              "      <th></th>\n",
              "      <th>age</th>\n",
              "      <th>workclass</th>\n",
              "      <th>fnlwgt</th>\n",
              "      <th>education</th>\n",
              "      <th>education-num</th>\n",
              "      <th>marital-status</th>\n",
              "      <th>occupation</th>\n",
              "      <th>relationship</th>\n",
              "      <th>race</th>\n",
              "      <th>sex</th>\n",
              "      <th>capital-gain</th>\n",
              "      <th>capital-loss</th>\n",
              "      <th>hours-per-week</th>\n",
              "      <th>&gt;50K,&lt;=50K</th>\n",
              "    </tr>\n",
              "  </thead>\n",
              "  <tbody>\n",
              "    <tr>\n",
              "      <th>0</th>\n",
              "      <td>34</td>\n",
              "      <td>Local-gov</td>\n",
              "      <td>284843</td>\n",
              "      <td>HS-grad</td>\n",
              "      <td>9</td>\n",
              "      <td>Never-married</td>\n",
              "      <td>Farming-fishing</td>\n",
              "      <td>Not-in-family</td>\n",
              "      <td>Black</td>\n",
              "      <td>Male</td>\n",
              "      <td>594</td>\n",
              "      <td>0</td>\n",
              "      <td>60</td>\n",
              "      <td>&lt;=50K</td>\n",
              "    </tr>\n",
              "    <tr>\n",
              "      <th>1</th>\n",
              "      <td>40</td>\n",
              "      <td>Private</td>\n",
              "      <td>190290</td>\n",
              "      <td>Some-college</td>\n",
              "      <td>10</td>\n",
              "      <td>Divorced</td>\n",
              "      <td>Sales</td>\n",
              "      <td>Not-in-family</td>\n",
              "      <td>White</td>\n",
              "      <td>Male</td>\n",
              "      <td>0</td>\n",
              "      <td>0</td>\n",
              "      <td>40</td>\n",
              "      <td>&lt;=50K</td>\n",
              "    </tr>\n",
              "    <tr>\n",
              "      <th>2</th>\n",
              "      <td>36</td>\n",
              "      <td>Local-gov</td>\n",
              "      <td>177858</td>\n",
              "      <td>Bachelors</td>\n",
              "      <td>13</td>\n",
              "      <td>Married-civ-spouse</td>\n",
              "      <td>Prof-specialty</td>\n",
              "      <td>Own-child</td>\n",
              "      <td>White</td>\n",
              "      <td>Male</td>\n",
              "      <td>0</td>\n",
              "      <td>0</td>\n",
              "      <td>40</td>\n",
              "      <td>&lt;=50K</td>\n",
              "    </tr>\n",
              "    <tr>\n",
              "      <th>3</th>\n",
              "      <td>22</td>\n",
              "      <td>Private</td>\n",
              "      <td>184756</td>\n",
              "      <td>Some-college</td>\n",
              "      <td>10</td>\n",
              "      <td>Never-married</td>\n",
              "      <td>Sales</td>\n",
              "      <td>Own-child</td>\n",
              "      <td>White</td>\n",
              "      <td>Female</td>\n",
              "      <td>0</td>\n",
              "      <td>0</td>\n",
              "      <td>30</td>\n",
              "      <td>&lt;=50K</td>\n",
              "    </tr>\n",
              "    <tr>\n",
              "      <th>4</th>\n",
              "      <td>47</td>\n",
              "      <td>Private</td>\n",
              "      <td>149700</td>\n",
              "      <td>Bachelors</td>\n",
              "      <td>13</td>\n",
              "      <td>Married-civ-spouse</td>\n",
              "      <td>Tech-support</td>\n",
              "      <td>Husband</td>\n",
              "      <td>White</td>\n",
              "      <td>Male</td>\n",
              "      <td>15024</td>\n",
              "      <td>0</td>\n",
              "      <td>40</td>\n",
              "      <td>&gt;50K</td>\n",
              "    </tr>\n",
              "    <tr>\n",
              "      <th>...</th>\n",
              "      <td>...</td>\n",
              "      <td>...</td>\n",
              "      <td>...</td>\n",
              "      <td>...</td>\n",
              "      <td>...</td>\n",
              "      <td>...</td>\n",
              "      <td>...</td>\n",
              "      <td>...</td>\n",
              "      <td>...</td>\n",
              "      <td>...</td>\n",
              "      <td>...</td>\n",
              "      <td>...</td>\n",
              "      <td>...</td>\n",
              "      <td>...</td>\n",
              "    </tr>\n",
              "    <tr>\n",
              "      <th>16275</th>\n",
              "      <td>25</td>\n",
              "      <td>Local-gov</td>\n",
              "      <td>514716</td>\n",
              "      <td>Bachelors</td>\n",
              "      <td>13</td>\n",
              "      <td>Never-married</td>\n",
              "      <td>Adm-clerical</td>\n",
              "      <td>Own-child</td>\n",
              "      <td>Black</td>\n",
              "      <td>Female</td>\n",
              "      <td>0</td>\n",
              "      <td>0</td>\n",
              "      <td>40</td>\n",
              "      <td>&lt;=50K</td>\n",
              "    </tr>\n",
              "    <tr>\n",
              "      <th>16276</th>\n",
              "      <td>32</td>\n",
              "      <td>Private</td>\n",
              "      <td>207668</td>\n",
              "      <td>Bachelors</td>\n",
              "      <td>13</td>\n",
              "      <td>Married-civ-spouse</td>\n",
              "      <td>Exec-managerial</td>\n",
              "      <td>Husband</td>\n",
              "      <td>White</td>\n",
              "      <td>Male</td>\n",
              "      <td>15024</td>\n",
              "      <td>0</td>\n",
              "      <td>45</td>\n",
              "      <td>&gt;50K</td>\n",
              "    </tr>\n",
              "    <tr>\n",
              "      <th>16277</th>\n",
              "      <td>27</td>\n",
              "      <td>Private</td>\n",
              "      <td>104457</td>\n",
              "      <td>Bachelors</td>\n",
              "      <td>13</td>\n",
              "      <td>Never-married</td>\n",
              "      <td>Machine-op-inspct</td>\n",
              "      <td>Not-in-family</td>\n",
              "      <td>Asian-Pac-Islander</td>\n",
              "      <td>Male</td>\n",
              "      <td>0</td>\n",
              "      <td>0</td>\n",
              "      <td>40</td>\n",
              "      <td>&lt;=50K</td>\n",
              "    </tr>\n",
              "    <tr>\n",
              "      <th>16278</th>\n",
              "      <td>59</td>\n",
              "      <td>State-gov</td>\n",
              "      <td>268700</td>\n",
              "      <td>HS-grad</td>\n",
              "      <td>9</td>\n",
              "      <td>Married-civ-spouse</td>\n",
              "      <td>Other-service</td>\n",
              "      <td>Husband</td>\n",
              "      <td>White</td>\n",
              "      <td>Male</td>\n",
              "      <td>0</td>\n",
              "      <td>0</td>\n",
              "      <td>40</td>\n",
              "      <td>&lt;=50K</td>\n",
              "    </tr>\n",
              "    <tr>\n",
              "      <th>16279</th>\n",
              "      <td>33</td>\n",
              "      <td>Private</td>\n",
              "      <td>59083</td>\n",
              "      <td>Bachelors</td>\n",
              "      <td>13</td>\n",
              "      <td>Married-civ-spouse</td>\n",
              "      <td>Adm-clerical</td>\n",
              "      <td>Husband</td>\n",
              "      <td>White</td>\n",
              "      <td>Male</td>\n",
              "      <td>0</td>\n",
              "      <td>1902</td>\n",
              "      <td>45</td>\n",
              "      <td>&gt;50K</td>\n",
              "    </tr>\n",
              "  </tbody>\n",
              "</table>\n",
              "<p>16280 rows × 14 columns</p>\n",
              "</div>"
            ],
            "text/plain": [
              "       age  workclass  fnlwgt  ... capital-loss  hours-per-week >50K,<=50K\n",
              "0       34  Local-gov  284843  ...            0              60      <=50K\n",
              "1       40    Private  190290  ...            0              40      <=50K\n",
              "2       36  Local-gov  177858  ...            0              40      <=50K\n",
              "3       22    Private  184756  ...            0              30      <=50K\n",
              "4       47    Private  149700  ...            0              40       >50K\n",
              "...    ...        ...     ...  ...          ...             ...        ...\n",
              "16275   25  Local-gov  514716  ...            0              40      <=50K\n",
              "16276   32    Private  207668  ...            0              45       >50K\n",
              "16277   27    Private  104457  ...            0              40      <=50K\n",
              "16278   59  State-gov  268700  ...            0              40      <=50K\n",
              "16279   33    Private   59083  ...         1902              45       >50K\n",
              "\n",
              "[16280 rows x 14 columns]"
            ]
          },
          "metadata": {
            "tags": []
          },
          "execution_count": 3
        }
      ]
    },
    {
      "cell_type": "markdown",
      "metadata": {
        "id": "awP_kCkn0vHf"
      },
      "source": [
        "Обычно после загрузки датасета всегда необходима его некоторая предобработка. В данном случае она будет заключаться в следующем: \n",
        "\n",
        " - Выделите целевую переменную (ту, которую мы хотим предсказывать) в отдельную переменную, удалите ее из датасета и преобразуйте к бинарному формату.\n",
        " - Обратите внимание, что не все признаки являются вещественными (числовыми). В начале мы будем работать только с вещественными признаками. Выделите их отдельно."
      ]
    },
    {
      "cell_type": "code",
      "metadata": {
        "id": "hOkTbhj60vHg"
      },
      "source": [
        "X_numb = data.copy()\n",
        "cols = ['>50K,<=50K', 'workclass', 'education', 'marital-status', 'occupation', 'relationship', 'race', 'sex']\n",
        "X_numb.drop(cols, inplace=True, axis =1)\n",
        "\n",
        "y = data['>50K,<=50K']\n",
        "def change(k):\n",
        "    if k == '>50K':\n",
        "        return 1\n",
        "    else:\n",
        "        return 0\n",
        "\n",
        "y = y.apply(change)"
      ],
      "execution_count": null,
      "outputs": []
    },
    {
      "cell_type": "markdown",
      "metadata": {
        "id": "rMKJtVBj0vHk"
      },
      "source": [
        "## Обучение классификаторов на вещественных признаках\n",
        "\n",
        "В данном разделе необходимо будет работать только с вещественными признаками и целевой переменной.\n",
        "\n",
        "В начале посмотрим как работает подбор параметров по сетке и как влияет на качество разбиение выборки. Сейчас и далее будем рассматривать 4 алгоритма:\n",
        " - [kNN](http://scikit-learn.org/stable/modules/generated/sklearn.neighbors.KNeighborsClassifier.html)\n",
        " - [DecisonTree](http://scikit-learn.org/stable/modules/generated/sklearn.tree.DecisionTreeClassifier.html#sklearn.tree.DecisionTreeClassifier)\n",
        " - [RandomForest](http://scikit-learn.org/stable/modules/generated/sklearn.ensemble.RandomForestClassifier.html)\n",
        " - [SGD Linear Classifier](http://scikit-learn.org/stable/modules/generated/sklearn.linear_model.SGDClassifier.html)\n",
        "\n",
        "Для начала у первых трёх алгоритмов выберем один гиперпараметр, который будем оптимизировать:\n",
        " - kNN — число соседей (*n_neighbors*)\n",
        " - DecisonTree — глубина дерева (*max_depth*)\n",
        " - SGD Linear Classifier — оптимизируемая функция (*loss*)\n",
        " \n",
        "Остальные параметры оставляйте в значениях по умолчанию. Для подбора гиперпараметров воспользуйтесь перебором по сетке, который реализован в классе [GridSearchCV](https://scikit-learn.org/stable/modules/generated/sklearn.model_selection.GridSearchCV.html). В качестве схемы кросс-валидации используйте 5-fold cv, которую можно задать с помощью класса [KFold](https://scikit-learn.org/stable/modules/generated/sklearn.model_selection.KFold.html).\n",
        "\n",
        "**(1.5 балла)** Для каждого алгоритма подберите оптимальные значения указанных гиперпараметров. Постройте график среднего качества по кросс-валидации алгоритма при заданном значении гиперпараметра, на котором также отобразите доверительный интервал."
      ]
    },
    {
      "cell_type": "code",
      "metadata": {
        "id": "3EmSLmgZ0vHl",
        "outputId": "2338bc59-ad75-43ac-e860-f73df2cd3317",
        "colab": {
          "base_uri": "https://localhost:8080/",
          "height": 355
        }
      },
      "source": [
        "n = range (1, 26, 1)\n",
        "parametrs = {'n_neighbors': n}\n",
        "algoritm = KNeighborsClassifier()\n",
        "grid = GridSearchCV(algoritm, parametrs, cv=5, scoring='roc_auc')\n",
        "grid_res_kNN = grid.fit(X_numb, y)\n",
        "print(grid_res_kNN.best_estimator_)\n",
        "\n",
        "res = grid_res_kNN.cv_results_['mean_test_score']\n",
        "res_std = grid_res_kNN.cv_results_['std_test_score']\n",
        "\n",
        "plt.semilogx(n, res)\n",
        "plt.ylabel('Score +/- st.d')\n",
        "plt.xlabel('n_neighbors')\n",
        "plt.axhline(np.max(res), linestyle='--', color='.5')\n",
        "std_error = res_std / np.sqrt(5)\n",
        "plt.semilogx(n, res + std_error, 'b--')\n",
        "plt.semilogx(n, res - std_error, 'b--')\n",
        "plt.fill_between(n, res + std_error, res - std_error, alpha=0.2)"
      ],
      "execution_count": null,
      "outputs": [
        {
          "output_type": "stream",
          "text": [
            "KNeighborsClassifier(algorithm='auto', leaf_size=30, metric='minkowski',\n",
            "                     metric_params=None, n_jobs=None, n_neighbors=5, p=2,\n",
            "                     weights='uniform')\n"
          ],
          "name": "stdout"
        },
        {
          "output_type": "execute_result",
          "data": {
            "text/plain": [
              "<matplotlib.collections.PolyCollection at 0x7fa95cb7bcc0>"
            ]
          },
          "metadata": {
            "tags": []
          },
          "execution_count": 5
        },
        {
          "output_type": "display_data",
          "data": {
            "image/png": "[encoded data removed]",
            "text/plain": [
              "<Figure size 432x288 with 1 Axes>"
            ]
          },
          "metadata": {
            "tags": [],
            "needs_background": "light"
          }
        }
      ]
    },
    {
      "cell_type": "code",
      "metadata": {
        "id": "FqQLGD0W1dl4",
        "outputId": "b1c52743-d2d9-4d2a-89f2-64e86afce13d",
        "colab": {
          "base_uri": "https://localhost:8080/",
          "height": 762
        }
      },
      "source": [
        "loss = [ 'hinge', 'log', 'modified_huber', 'squared_hinge', 'perceptron', 'squared_loss', 'huber', 'epsilon_insensitive', 'squared_epsilon_insensitive']\n",
        "parametrs = {'loss': loss}\n",
        "algoritm = SGDClassifier()\n",
        "grid = GridSearchCV(algoritm, parametrs, cv=5,  scoring='roc_auc')\n",
        "grid_res_SGD = grid.fit(X_numb, y)\n",
        "print(grid_res_SGD.best_estimator_)\n",
        "\n",
        "res = grid_res_SGD.cv_results_['mean_test_score']\n",
        "res_std = grid_res_SGD.cv_results_['std_test_score']\n",
        "\n",
        "plt.semilogx(loss, res)\n",
        "plt.ylabel('Score +/- st.d')\n",
        "plt.xlabel('loss')\n",
        "plt.axhline(np.max(res), linestyle='--', color='.5')\n",
        "std_error = res_std / np.sqrt(5)\n",
        "plt.semilogx(loss, res + std_error, 'b--')\n",
        "plt.semilogx(loss, res - std_error, 'b--')\n",
        "plt.fill_between(loss, res + std_error, res - std_error, alpha=0.2)"
      ],
      "execution_count": null,
      "outputs": [
        {
          "output_type": "stream",
          "text": [
            "/usr/local/lib/python3.6/dist-packages/sklearn/linear_model/_stochastic_gradient.py:557: ConvergenceWarning: Maximum number of iteration reached before convergence. Consider increasing max_iter to improve the fit.\n",
            "  ConvergenceWarning)\n",
            "/usr/local/lib/python3.6/dist-packages/sklearn/linear_model/_stochastic_gradient.py:557: ConvergenceWarning: Maximum number of iteration reached before convergence. Consider increasing max_iter to improve the fit.\n",
            "  ConvergenceWarning)\n",
            "/usr/local/lib/python3.6/dist-packages/sklearn/linear_model/_stochastic_gradient.py:557: ConvergenceWarning: Maximum number of iteration reached before convergence. Consider increasing max_iter to improve the fit.\n",
            "  ConvergenceWarning)\n",
            "/usr/local/lib/python3.6/dist-packages/sklearn/linear_model/_stochastic_gradient.py:557: ConvergenceWarning: Maximum number of iteration reached before convergence. Consider increasing max_iter to improve the fit.\n",
            "  ConvergenceWarning)\n",
            "/usr/local/lib/python3.6/dist-packages/sklearn/linear_model/_stochastic_gradient.py:557: ConvergenceWarning: Maximum number of iteration reached before convergence. Consider increasing max_iter to improve the fit.\n",
            "  ConvergenceWarning)\n",
            "/usr/local/lib/python3.6/dist-packages/sklearn/linear_model/_stochastic_gradient.py:557: ConvergenceWarning: Maximum number of iteration reached before convergence. Consider increasing max_iter to improve the fit.\n",
            "  ConvergenceWarning)\n",
            "/usr/local/lib/python3.6/dist-packages/sklearn/linear_model/_stochastic_gradient.py:557: ConvergenceWarning: Maximum number of iteration reached before convergence. Consider increasing max_iter to improve the fit.\n",
            "  ConvergenceWarning)\n",
            "/usr/local/lib/python3.6/dist-packages/sklearn/linear_model/_stochastic_gradient.py:557: ConvergenceWarning: Maximum number of iteration reached before convergence. Consider increasing max_iter to improve the fit.\n",
            "  ConvergenceWarning)\n",
            "/usr/local/lib/python3.6/dist-packages/sklearn/linear_model/_stochastic_gradient.py:557: ConvergenceWarning: Maximum number of iteration reached before convergence. Consider increasing max_iter to improve the fit.\n",
            "  ConvergenceWarning)\n",
            "/usr/local/lib/python3.6/dist-packages/sklearn/linear_model/_stochastic_gradient.py:557: ConvergenceWarning: Maximum number of iteration reached before convergence. Consider increasing max_iter to improve the fit.\n",
            "  ConvergenceWarning)\n"
          ],
          "name": "stderr"
        },
        {
          "output_type": "stream",
          "text": [
            "SGDClassifier(alpha=0.0001, average=False, class_weight=None,\n",
            "              early_stopping=False, epsilon=0.1, eta0=0.0, fit_intercept=True,\n",
            "              l1_ratio=0.15, learning_rate='optimal', loss='squared_hinge',\n",
            "              max_iter=1000, n_iter_no_change=5, n_jobs=None, penalty='l2',\n",
            "              power_t=0.5, random_state=None, shuffle=True, tol=0.001,\n",
            "              validation_fraction=0.1, verbose=0, warm_start=False)\n"
          ],
          "name": "stdout"
        },
        {
          "output_type": "execute_result",
          "data": {
            "text/plain": [
              "<matplotlib.collections.PolyCollection at 0x7fa959c6fac8>"
            ]
          },
          "metadata": {
            "tags": []
          },
          "execution_count": 7
        },
        {
          "output_type": "display_data",
          "data": {
            "image/png": "[encoded data removed]",
            "text/plain": [
              "<Figure size 432x288 with 1 Axes>"
            ]
          },
          "metadata": {
            "tags": [],
            "needs_background": "light"
          }
        }
      ]
    },
    {
      "cell_type": "code",
      "metadata": {
        "id": "qTg19fgs1d2l",
        "outputId": "a006b3e5-17c3-4cd9-b374-f064901d778d",
        "colab": {
          "base_uri": "https://localhost:8080/",
          "height": 403
        }
      },
      "source": [
        "depeth = range (1, 50, 1)\n",
        "parametrs = {'max_depth': depeth}\n",
        "algoritm = DecisionTreeClassifier()\n",
        "grid = GridSearchCV(algoritm, parametrs, cv=5,  scoring='roc_auc')\n",
        "grid_res_DT = grid.fit(X_numb, y)\n",
        "print(grid_res_DT.best_estimator_)\n",
        "\n",
        "res = grid_res_DT.cv_results_['mean_test_score']\n",
        "res_std = grid_res_DT.cv_results_['std_test_score']\n",
        "\n",
        "plt.semilogx(depeth, res)\n",
        "plt.ylabel('Score +/- st.d')\n",
        "plt.xlabel('max_depth')\n",
        "plt.axhline(np.max(res), linestyle='--', color='.5')\n",
        "std_error = res_std / np.sqrt(5)\n",
        "plt.semilogx(depeth, res + std_error, 'b--')\n",
        "plt.semilogx(depeth, res - std_error, 'b--')\n",
        "plt.fill_between(depeth, res + std_error, res - std_error, alpha=0.2)"
      ],
      "execution_count": null,
      "outputs": [
        {
          "output_type": "stream",
          "text": [
            "DecisionTreeClassifier(ccp_alpha=0.0, class_weight=None, criterion='gini',\n",
            "                       max_depth=7, max_features=None, max_leaf_nodes=None,\n",
            "                       min_impurity_decrease=0.0, min_impurity_split=None,\n",
            "                       min_samples_leaf=1, min_samples_split=2,\n",
            "                       min_weight_fraction_leaf=0.0, presort='deprecated',\n",
            "                       random_state=None, splitter='best')\n"
          ],
          "name": "stdout"
        },
        {
          "output_type": "execute_result",
          "data": {
            "text/plain": [
              "<matplotlib.collections.PolyCollection at 0x7fa959af92b0>"
            ]
          },
          "metadata": {
            "tags": []
          },
          "execution_count": 8
        },
        {
          "output_type": "display_data",
          "data": {
            "image/png": "[encoded data removed]",
            "text/plain": [
              "<Figure size 432x288 with 1 Axes>"
            ]
          },
          "metadata": {
            "tags": [],
            "needs_background": "light"
          }
        }
      ]
    },
    {
      "cell_type": "markdown",
      "metadata": {
        "id": "ODx7YQBy2Dmj"
      },
      "source": [
        "***Что можно сказать о полученных графиках? *** Наилучшее качество получилось достичь при помощи метода DecisionTree. Вторым по качеству оказался метод kNN, однако его качество оказалось значительно ниже. На третем месте оказалась модель SGD, чье качество довольно близко к методу kNN. Однако модель SGD показывает неустойчивые по времени результаты - при разных запусках можно получить три разные функции потерь в качестве оптимальных. При этом существенное влияние на качество данного метода разные функции потерь не оказывают."
      ]
    },
    {
      "cell_type": "markdown",
      "metadata": {
        "id": "B8SO4Ipu0vHo"
      },
      "source": [
        "Что вы можете сказать о получившихся графиках?\n",
        "\n",
        "**(1 балл)** Также подберём число деревьев (*n_estimators*) в алгоритме RandomForest. Как известно, в общем случае Random Forest не переобучается с увеличением количества деревьев, так что при увеличении этого гиперпараметра его качество не будет становиться хуже. Поэтому подберите такое количество деревьев, при котором качество на кросс-валидации стабилизируется. Обратите внимание, что для проведения этого эксперимента не нужно с нуля обучать много случайных лесов с различными количествами деревьев. Обучите один случайный лес с максимальным интересным количеством деревьев, а затем рассмотрите подмножества разных размеров, состоящие из деревьев построенного леса (поле [*estimators_*](http://scikit-learn.org/stable/modules/generated/sklearn.ensemble.RandomForestClassifier.html)). В дальнейших экспериментах используйте это количество деревьев."
      ]
    },
    {
      "cell_type": "code",
      "metadata": {
        "id": "fb3XpxbP0vHo",
        "outputId": "c7960fc5-3047-4469-cd5c-fed49df16aea",
        "colab": {
          "base_uri": "https://localhost:8080/",
          "height": 439
        }
      },
      "source": [
        "n_est = range (100,250, 5)\n",
        "parametrs = {'n_estimators': n_est}\n",
        "algoritm = RandomForestClassifier()\n",
        "grid = GridSearchCV(algoritm, parametrs, cv=5,  scoring='roc_auc')\n",
        "grid_res_RF = grid.fit(X_numb, y)\n",
        "print(grid_res_RF.best_estimator_)\n",
        "\n",
        "res = grid_res_RF.cv_results_['mean_test_score']\n",
        "res_std = grid_res_RF.cv_results_['std_test_score']\n",
        "\n",
        "plt.semilogx(n_est, res)\n",
        "plt.ylabel('Score +/- st.d')\n",
        "plt.xlabel('n_estimators')\n",
        "plt.axhline(np.max(res), linestyle='--', color='.5')\n",
        "std_error = res_std / np.sqrt(5)\n",
        "plt.semilogx(n_est, res + std_error, 'b--')\n",
        "plt.semilogx(n_est, res - std_error, 'b--')\n",
        "plt.fill_between(n_est, res + std_error, res - std_error, alpha=0.2)"
      ],
      "execution_count": null,
      "outputs": [
        {
          "output_type": "stream",
          "text": [
            "RandomForestClassifier(bootstrap=True, ccp_alpha=0.0, class_weight=None,\n",
            "                       criterion='gini', max_depth=None, max_features='auto',\n",
            "                       max_leaf_nodes=None, max_samples=None,\n",
            "                       min_impurity_decrease=0.0, min_impurity_split=None,\n",
            "                       min_samples_leaf=1, min_samples_split=2,\n",
            "                       min_weight_fraction_leaf=0.0, n_estimators=225,\n",
            "                       n_jobs=None, oob_score=False, random_state=None,\n",
            "                       verbose=0, warm_start=False)\n"
          ],
          "name": "stdout"
        },
        {
          "output_type": "execute_result",
          "data": {
            "text/plain": [
              "<matplotlib.collections.PolyCollection at 0x7fa959a189e8>"
            ]
          },
          "metadata": {
            "tags": []
          },
          "execution_count": 9
        },
        {
          "output_type": "display_data",
          "data": {
            "image/png": "[encoded data removed]",
            "text/plain": [
              "<Figure size 432x288 with 1 Axes>"
            ]
          },
          "metadata": {
            "tags": [],
            "needs_background": "light"
          }
        }
      ]
    },
    {
      "cell_type": "markdown",
      "metadata": {
        "id": "FvimbQ9G0vHs"
      },
      "source": [
        "При обучении алгоритмов стоит обращать внимание не только на качество, но и каким образом они работают с данными. В этой задаче получилось так, что некоторые из используемых алгоритмов чувствительны к масштабу признаков. Чтобы убедиться, что это как-то могло повлиять на качество давайте посмотрим на сами признаки.\n",
        "\n",
        "**(0.5 балла)** Постройте гистограммы для признаков *age*, *fnlwgt*, *capital-gain*."
      ]
    },
    {
      "cell_type": "code",
      "metadata": {
        "id": "DO6yxxCsRJI1",
        "outputId": "7f8399d3-c059-45c8-d386-9caf36466052",
        "colab": {
          "base_uri": "https://localhost:8080/",
          "height": 774
        }
      },
      "source": [
        "plt.hist(data['age'])\n",
        "plt.show()\n",
        "plt.hist(data['fnlwgt'])\n",
        "plt.show()\n",
        "plt.hist(data['capital-gain'])\n",
        "plt.show()"
      ],
      "execution_count": null,
      "outputs": [
        {
          "output_type": "display_data",
          "data": {
            "image/png": "[encoded data removed]",
            "text/plain": [
              "<Figure size 432x288 with 1 Axes>"
            ]
          },
          "metadata": {
            "tags": [],
            "needs_background": "light"
          }
        },
        {
          "output_type": "display_data",
          "data": {
            "image/png": "[encoded data removed]",
            "text/plain": [
              "<Figure size 432x288 with 1 Axes>"
            ]
          },
          "metadata": {
            "tags": [],
            "needs_background": "light"
          }
        },
        {
          "output_type": "display_data",
          "data": {
            "image/png": "[encoded data removed]",
            "text/plain": [
              "<Figure size 432x288 with 1 Axes>"
            ]
          },
          "metadata": {
            "tags": [],
            "needs_background": "light"
          }
        }
      ]
    },
    {
      "cell_type": "markdown",
      "metadata": {
        "id": "8y1mg8-iT2CP"
      },
      "source": [
        "***Что можно сказать о переменных по полученным графикам?*** Каждая из переменных имеет уникальное распределение. Кроме того, единицы измерения у ни весьма сильно разняться - если одна из переменных измеряется в промежутке от 0 до 1.4, то другая достигает отметки 100000. Такеой сильно разнящийся масштаб оказывает существенное влияние на подбираемые коэффициенты в моделя. Именно поэтому имеет смысл отмасштабировать данные. "
      ]
    },
    {
      "cell_type": "markdown",
      "metadata": {
        "id": "83mHuav80vHw"
      },
      "source": [
        "**(0.5 балла)** Глядя на получившиеся графики в чем заключается особенность данных? На какие алгоритмы это может повлиять? Может ли масшитабирование повлиять на работу этих алгоритмов?"
      ]
    },
    {
      "cell_type": "markdown",
      "metadata": {
        "id": "PwG9Uhve0vHx"
      },
      "source": [
        "Масштабирование признаков можно выполнить, например, одним из следующих способов способами:\n",
        " - $x_{new} = \\dfrac{x - \\mu}{\\sigma}$, где $\\mu, \\sigma$ — среднее и стандартное отклонение значения признака по всей выборке (см. функцию [scale](http://scikit-learn.org/stable/modules/generated/sklearn.preprocessing.scale.html))\n",
        " - $x_{new} = \\dfrac{x - x_{min}}{x_{max} - x_{min}}$, где $[x_{min}, x_{max}]$ — минимальный интервал значений признака\n",
        "\n",
        "Похожие схемы масштабирования приведены в классах [StandardScaler](http://scikit-learn.org/stable/modules/generated/sklearn.preprocessing.StandardScaler.html#sklearn.preprocessing.StandardScaler) и [MinMaxScaler](http://scikit-learn.org/stable/modules/generated/sklearn.preprocessing.MinMaxScaler.html#sklearn.preprocessing.MinMaxScaler).\n",
        " \n",
        "**(1 балл)** Масштабируйте все вещественные признаки одним из указанных способов и подберите оптимальные значения гиперпараметров аналогичо пункту выше."
      ]
    },
    {
      "cell_type": "code",
      "metadata": {
        "id": "lFW9Jw5V0vHx"
      },
      "source": [
        "scaler = preprocessing.MinMaxScaler()\n",
        "X_numb_scaled = scaler.fit_transform(X_numb)"
      ],
      "execution_count": null,
      "outputs": []
    },
    {
      "cell_type": "code",
      "metadata": {
        "id": "knHDec-P1l8U",
        "outputId": "1f5fa051-b52f-48cd-9423-3447f37dde50",
        "colab": {
          "base_uri": "https://localhost:8080/",
          "height": 350
        }
      },
      "source": [
        "n = range (20, 60, 1)\n",
        "parametrs = {'n_neighbors': n}\n",
        "algoritm = KNeighborsClassifier()\n",
        "grid = GridSearchCV(algoritm, parametrs, cv=5, scoring='roc_auc')\n",
        "grid_res_kNN_sc = grid.fit(X_numb_scaled, y)\n",
        "print(grid_res_kNN_sc.best_estimator_)\n",
        "\n",
        "res_knn = grid_res_kNN_sc.cv_results_['mean_test_score']\n",
        "res_std = grid_res_kNN_sc.cv_results_['std_test_score']\n",
        "\n",
        "plt.semilogx(n, res_knn)\n",
        "plt.ylabel('Score +/- st.d')\n",
        "plt.xlabel('n_neighbors')\n",
        "plt.axhline(np.max(res_knn), linestyle='--', color='.5')\n",
        "std_error = res_std / np.sqrt(5)\n",
        "plt.semilogx(n, res_knn + std_error, 'b--')\n",
        "plt.semilogx(n, res_knn - std_error, 'b--')\n",
        "plt.fill_between(n, res_knn + std_error, res_knn - std_error, alpha=0.2)"
      ],
      "execution_count": null,
      "outputs": [
        {
          "output_type": "stream",
          "text": [
            "KNeighborsClassifier(algorithm='auto', leaf_size=30, metric='minkowski',\n",
            "                     metric_params=None, n_jobs=None, n_neighbors=43, p=2,\n",
            "                     weights='uniform')\n"
          ],
          "name": "stdout"
        },
        {
          "output_type": "execute_result",
          "data": {
            "text/plain": [
              "<matplotlib.collections.PolyCollection at 0x7fa946b6d6a0>"
            ]
          },
          "metadata": {
            "tags": []
          },
          "execution_count": 104
        },
        {
          "output_type": "display_data",
          "data": {
            "image/png": "[encoded data removed]",
            "text/plain": [
              "<Figure size 432x288 with 1 Axes>"
            ]
          },
          "metadata": {
            "tags": [],
            "needs_background": "light"
          }
        }
      ]
    },
    {
      "cell_type": "code",
      "metadata": {
        "id": "dPWnLhgO1mQC",
        "outputId": "558bc345-01dd-49a4-9f86-dd5b9d2f7d8d",
        "colab": {
          "base_uri": "https://localhost:8080/",
          "height": 592
        }
      },
      "source": [
        "loss = [ 'hinge', 'log', 'modified_huber', 'squared_hinge', 'perceptron', 'squared_loss', 'huber', 'epsilon_insensitive', 'squared_epsilon_insensitive']\n",
        "parametrs = {'loss': loss}\n",
        "algoritm = SGDClassifier()\n",
        "grid = GridSearchCV(algoritm, parametrs, cv=5,  scoring='roc_auc')\n",
        "grid_res_SGD_sc = grid.fit(X_numb_scaled, y)\n",
        "print(grid_res_SGD_sc.best_estimator_)\n",
        "\n",
        "res_SGD_2 = grid_res_SGD_sc.cv_results_['mean_test_score']\n",
        "res_std = grid_res_SGD_sc.cv_results_['std_test_score']\n",
        "\n",
        "plt.semilogx(loss, res_SGD_2)\n",
        "plt.ylabel('Score +/- st.d')\n",
        "plt.xlabel('loss')\n",
        "plt.axhline(np.max(res_SGD_2), linestyle='--', color='.5')\n",
        "std_error = res_std / np.sqrt(5)\n",
        "plt.semilogx(loss, res_SGD_2 + std_error, 'b--')\n",
        "plt.semilogx(loss, res_SGD_2 - std_error, 'b--')\n",
        "plt.fill_between(loss, res_SGD_2 + std_error, res_SGD_2 - std_error, alpha=0.2)"
      ],
      "execution_count": null,
      "outputs": [
        {
          "output_type": "stream",
          "text": [
            "/usr/local/lib/python3.6/dist-packages/sklearn/linear_model/_stochastic_gradient.py:557: ConvergenceWarning: Maximum number of iteration reached before convergence. Consider increasing max_iter to improve the fit.\n",
            "  ConvergenceWarning)\n",
            "/usr/local/lib/python3.6/dist-packages/sklearn/linear_model/_stochastic_gradient.py:557: ConvergenceWarning: Maximum number of iteration reached before convergence. Consider increasing max_iter to improve the fit.\n",
            "  ConvergenceWarning)\n",
            "/usr/local/lib/python3.6/dist-packages/sklearn/linear_model/_stochastic_gradient.py:557: ConvergenceWarning: Maximum number of iteration reached before convergence. Consider increasing max_iter to improve the fit.\n",
            "  ConvergenceWarning)\n",
            "/usr/local/lib/python3.6/dist-packages/sklearn/linear_model/_stochastic_gradient.py:557: ConvergenceWarning: Maximum number of iteration reached before convergence. Consider increasing max_iter to improve the fit.\n",
            "  ConvergenceWarning)\n",
            "/usr/local/lib/python3.6/dist-packages/sklearn/linear_model/_stochastic_gradient.py:557: ConvergenceWarning: Maximum number of iteration reached before convergence. Consider increasing max_iter to improve the fit.\n",
            "  ConvergenceWarning)\n"
          ],
          "name": "stderr"
        },
        {
          "output_type": "stream",
          "text": [
            "SGDClassifier(alpha=0.0001, average=False, class_weight=None,\n",
            "              early_stopping=False, epsilon=0.1, eta0=0.0, fit_intercept=True,\n",
            "              l1_ratio=0.15, learning_rate='optimal', loss='modified_huber',\n",
            "              max_iter=1000, n_iter_no_change=5, n_jobs=None, penalty='l2',\n",
            "              power_t=0.5, random_state=None, shuffle=True, tol=0.001,\n",
            "              validation_fraction=0.1, verbose=0, warm_start=False)\n"
          ],
          "name": "stdout"
        },
        {
          "output_type": "execute_result",
          "data": {
            "text/plain": [
              "<matplotlib.collections.PolyCollection at 0x7fa945cb4c88>"
            ]
          },
          "metadata": {
            "tags": []
          },
          "execution_count": 103
        },
        {
          "output_type": "display_data",
          "data": {
            "image/png": "[encoded data removed]",
            "text/plain": [
              "<Figure size 432x288 with 1 Axes>"
            ]
          },
          "metadata": {
            "tags": [],
            "needs_background": "light"
          }
        }
      ]
    },
    {
      "cell_type": "code",
      "metadata": {
        "id": "Bv5LNnIO1mg0",
        "outputId": "b4e9bb58-be6e-4e24-cf16-a3eab328849f",
        "colab": {
          "base_uri": "https://localhost:8080/",
          "height": 403
        }
      },
      "source": [
        "depeth = range (1, 50, 1)\n",
        "parametrs = {'max_depth': depeth}\n",
        "algoritm = DecisionTreeClassifier()\n",
        "grid = GridSearchCV(algoritm, parametrs, cv=5,  scoring='roc_auc')\n",
        "grid_res_DT_sc = grid.fit(X_numb_scaled, y)\n",
        "print(grid_res_DT_sc.best_estimator_)\n",
        "\n",
        "res = grid_res_DT_sc.cv_results_['mean_test_score']\n",
        "res_std = grid_res_DT_sc.cv_results_['std_test_score']\n",
        "\n",
        "plt.semilogx(depeth, res)\n",
        "plt.ylabel('Score +/- st.d')\n",
        "plt.xlabel('max_depth')\n",
        "plt.axhline(np.max(res), linestyle='--', color='.5')\n",
        "std_error = res_std / np.sqrt(5)\n",
        "plt.semilogx(depeth, res + std_error, 'b--')\n",
        "plt.semilogx(depeth, res - std_error, 'b--')\n",
        "plt.fill_between(depeth, res + std_error, res - std_error, alpha=0.2)"
      ],
      "execution_count": null,
      "outputs": [
        {
          "output_type": "stream",
          "text": [
            "DecisionTreeClassifier(ccp_alpha=0.0, class_weight=None, criterion='gini',\n",
            "                       max_depth=7, max_features=None, max_leaf_nodes=None,\n",
            "                       min_impurity_decrease=0.0, min_impurity_split=None,\n",
            "                       min_samples_leaf=1, min_samples_split=2,\n",
            "                       min_weight_fraction_leaf=0.0, presort='deprecated',\n",
            "                       random_state=None, splitter='best')\n"
          ],
          "name": "stdout"
        },
        {
          "output_type": "execute_result",
          "data": {
            "text/plain": [
              "<matplotlib.collections.PolyCollection at 0x7fa9512fdb70>"
            ]
          },
          "metadata": {
            "tags": []
          },
          "execution_count": 35
        },
        {
          "output_type": "display_data",
          "data": {
            "image/png": "[encoded data removed]",
            "text/plain": [
              "<Figure size 432x288 with 1 Axes>"
            ]
          },
          "metadata": {
            "tags": [],
            "needs_background": "light"
          }
        }
      ]
    },
    {
      "cell_type": "markdown",
      "metadata": {
        "id": "E6xCQ4wv0vH5"
      },
      "source": [
        "***Изменилось ли качество у некоторых алгоритмов?*** Использование масштабирования действительно значимо сумело повысить качество некоторых моделей - kNN и SGD. Помимо увеличения качества у моделей также изменились оптимальные значения параметров. Так же использование масштабирования помоголо выявить одназначно лучшую функцию потерь в моделе SGD.  При этом модель DecisionTree не изменилась - у неё сохранились как прежний уровень качесвта, так и оптимальный параметр. Однако последняя модель снова показывает лучшее качество среди трех вариантов. "
      ]
    },
    {
      "cell_type": "markdown",
      "metadata": {
        "id": "o5R28US_0vH6"
      },
      "source": [
        "**(1,5 балла)** Теперь сделайте перебор нескольких гиперпараметров по сетке и найдите оптимальные комбинации (лучшее среднее значение качества) для каждого алгоритма в данном случае: \n",
        " - KNN — число соседей (*n_neighbors*) и метрика (*metric*)\n",
        " - DecisonTree — глубина дерева (*max_depth*) и критерий разбиения (*criterion*)\n",
        " - RandomForest — критерий разбиения в деревьях (*criterion*) и *max_features* (при фиксированном количестве деревьев, найденном ранее)\n",
        " - SGDClassifier — оптимизируемая функция (*loss*) и *penalty*\n",
        " \n",
        "Обратите внимание, что эта операция может быть ресурсо- и трудоемкой. Как оптимизировать подбор параметров по сетке сказано в разделе \"Подбор гиперпараметров модели\""
      ]
    },
    {
      "cell_type": "code",
      "metadata": {
        "id": "Z8UVq3uY0vH6"
      },
      "source": [
        "n = range (1, 20, 1)\n",
        "metric = [ 'euclidean', 'manhattan', 'chebyshev', 'minkowski', 'wminkowski', 'seuclidean', 'mahalanobis']\n",
        "parametrs = {'n_neighbors': n, 'metric': metric}\n",
        "algoritm = KNeighborsClassifier()\n",
        "grid = GridSearchCV(algoritm, parametrs, cv=5, scoring='roc_auc')\n",
        "grid_res_kNN_2 = grid.fit(X_numb_scaled, y)\n",
        "print(grid_res_kNN_2.best_estimator_)\n",
        "\n",
        "res = grid_res_kNN_2.cv_results_['mean_test_score']\n",
        "res_time = grid_res_kNN_2.cv_results_['mean_fit_time']"
      ],
      "execution_count": null,
      "outputs": []
    },
    {
      "cell_type": "code",
      "metadata": {
        "id": "OTch_3iZ8V5f",
        "outputId": "ef8b73d3-11bd-4968-cbba-a0b90518bb34",
        "colab": {
          "base_uri": "https://localhost:8080/"
        }
      },
      "source": [
        "loss = [ 'hinge', 'log', 'modified_huber', 'squared_hinge', 'perceptron', 'squared_loss', 'huber', 'epsilon_insensitive', 'squared_epsilon_insensitive']\n",
        "penalty = ['l2', 'l1', 'elasticnet']\n",
        "parametrs = {'loss': loss, 'penalty': penalty }\n",
        "algoritm = SGDClassifier()\n",
        "grid = GridSearchCV(algoritm, parametrs, cv=5,  scoring='roc_auc')\n",
        "grid_res_SGD_2 = grid.fit(X_numb_scaled, y)\n",
        "print(grid_res_SGD_2.best_estimator_)\n",
        "\n",
        "res_SGD = grid_res_SGD_2.cv_results_['mean_test_score']\n",
        "res_std = grid_res_SGD_2.cv_results_['std_test_score']\n",
        "print(np.average(res))"
      ],
      "execution_count": null,
      "outputs": [
        {
          "output_type": "stream",
          "text": [
            "/usr/local/lib/python3.6/dist-packages/sklearn/linear_model/_stochastic_gradient.py:557: ConvergenceWarning: Maximum number of iteration reached before convergence. Consider increasing max_iter to improve the fit.\n",
            "  ConvergenceWarning)\n",
            "/usr/local/lib/python3.6/dist-packages/sklearn/linear_model/_stochastic_gradient.py:557: ConvergenceWarning: Maximum number of iteration reached before convergence. Consider increasing max_iter to improve the fit.\n",
            "  ConvergenceWarning)\n",
            "/usr/local/lib/python3.6/dist-packages/sklearn/linear_model/_stochastic_gradient.py:557: ConvergenceWarning: Maximum number of iteration reached before convergence. Consider increasing max_iter to improve the fit.\n",
            "  ConvergenceWarning)\n",
            "/usr/local/lib/python3.6/dist-packages/sklearn/linear_model/_stochastic_gradient.py:557: ConvergenceWarning: Maximum number of iteration reached before convergence. Consider increasing max_iter to improve the fit.\n",
            "  ConvergenceWarning)\n",
            "/usr/local/lib/python3.6/dist-packages/sklearn/linear_model/_stochastic_gradient.py:557: ConvergenceWarning: Maximum number of iteration reached before convergence. Consider increasing max_iter to improve the fit.\n",
            "  ConvergenceWarning)\n",
            "/usr/local/lib/python3.6/dist-packages/sklearn/linear_model/_stochastic_gradient.py:557: ConvergenceWarning: Maximum number of iteration reached before convergence. Consider increasing max_iter to improve the fit.\n",
            "  ConvergenceWarning)\n",
            "/usr/local/lib/python3.6/dist-packages/sklearn/linear_model/_stochastic_gradient.py:557: ConvergenceWarning: Maximum number of iteration reached before convergence. Consider increasing max_iter to improve the fit.\n",
            "  ConvergenceWarning)\n",
            "/usr/local/lib/python3.6/dist-packages/sklearn/linear_model/_stochastic_gradient.py:557: ConvergenceWarning: Maximum number of iteration reached before convergence. Consider increasing max_iter to improve the fit.\n",
            "  ConvergenceWarning)\n",
            "/usr/local/lib/python3.6/dist-packages/sklearn/linear_model/_stochastic_gradient.py:557: ConvergenceWarning: Maximum number of iteration reached before convergence. Consider increasing max_iter to improve the fit.\n",
            "  ConvergenceWarning)\n",
            "/usr/local/lib/python3.6/dist-packages/sklearn/linear_model/_stochastic_gradient.py:557: ConvergenceWarning: Maximum number of iteration reached before convergence. Consider increasing max_iter to improve the fit.\n",
            "  ConvergenceWarning)\n",
            "/usr/local/lib/python3.6/dist-packages/sklearn/linear_model/_stochastic_gradient.py:557: ConvergenceWarning: Maximum number of iteration reached before convergence. Consider increasing max_iter to improve the fit.\n",
            "  ConvergenceWarning)\n",
            "/usr/local/lib/python3.6/dist-packages/sklearn/linear_model/_stochastic_gradient.py:557: ConvergenceWarning: Maximum number of iteration reached before convergence. Consider increasing max_iter to improve the fit.\n",
            "  ConvergenceWarning)\n",
            "/usr/local/lib/python3.6/dist-packages/sklearn/linear_model/_stochastic_gradient.py:557: ConvergenceWarning: Maximum number of iteration reached before convergence. Consider increasing max_iter to improve the fit.\n",
            "  ConvergenceWarning)\n",
            "/usr/local/lib/python3.6/dist-packages/sklearn/linear_model/_stochastic_gradient.py:557: ConvergenceWarning: Maximum number of iteration reached before convergence. Consider increasing max_iter to improve the fit.\n",
            "  ConvergenceWarning)\n",
            "/usr/local/lib/python3.6/dist-packages/sklearn/linear_model/_stochastic_gradient.py:557: ConvergenceWarning: Maximum number of iteration reached before convergence. Consider increasing max_iter to improve the fit.\n",
            "  ConvergenceWarning)\n"
          ],
          "name": "stderr"
        },
        {
          "output_type": "stream",
          "text": [
            "SGDClassifier(alpha=0.0001, average=False, class_weight=None,\n",
            "              early_stopping=False, epsilon=0.1, eta0=0.0, fit_intercept=True,\n",
            "              l1_ratio=0.15, learning_rate='optimal', loss='log', max_iter=1000,\n",
            "              n_iter_no_change=5, n_jobs=None, penalty='l1', power_t=0.5,\n",
            "              random_state=None, shuffle=True, tol=0.001,\n",
            "              validation_fraction=0.1, verbose=0, warm_start=False)\n",
            "nan\n"
          ],
          "name": "stdout"
        }
      ]
    },
    {
      "cell_type": "code",
      "metadata": {
        "id": "FZ_fx9w-8Vqb",
        "outputId": "d505c00d-e43a-4f82-a5d3-4f1756584720",
        "colab": {
          "base_uri": "https://localhost:8080/"
        }
      },
      "source": [
        "depeth = range (1, 50, 1)\n",
        "criterion = ['gini', 'entropy']\n",
        "parametrs = {'max_depth': depeth, 'criterion': criterion}\n",
        "algoritm = DecisionTreeClassifier()\n",
        "grid = GridSearchCV(algoritm, parametrs, cv=5,  scoring='roc_auc')\n",
        "grid_res_DT_2 = grid.fit(X_numb_scaled, y)\n",
        "print(grid_res_DT_2.best_estimator_)\n",
        "\n",
        "res = grid_res_DT_2.cv_results_['mean_test_score']\n",
        "res_std = grid_res_DT_2.cv_results_['std_test_score']\n",
        "print(np.average(res))"
      ],
      "execution_count": null,
      "outputs": [
        {
          "output_type": "stream",
          "text": [
            "DecisionTreeClassifier(ccp_alpha=0.0, class_weight=None, criterion='gini',\n",
            "                       max_depth=7, max_features=None, max_leaf_nodes=None,\n",
            "                       min_impurity_decrease=0.0, min_impurity_split=None,\n",
            "                       min_samples_leaf=1, min_samples_split=2,\n",
            "                       min_weight_fraction_leaf=0.0, presort='deprecated',\n",
            "                       random_state=None, splitter='best')\n",
            "0.7360952594606426\n"
          ],
          "name": "stdout"
        }
      ]
    },
    {
      "cell_type": "code",
      "metadata": {
        "id": "p4NqQpOlNCX-",
        "outputId": "211cda70-967c-466e-f275-1d83ed00506d",
        "colab": {
          "base_uri": "https://localhost:8080/"
        }
      },
      "source": [
        "max_features =['auto', 'sqrt', 'log2']\n",
        "parametrs = {'criterion': criterion, 'max_features': max_features}\n",
        "algoritm = RandomForestClassifier(n_estimators=225)\n",
        "grid = GridSearchCV(algoritm, parametrs, cv=5,  scoring='roc_auc')\n",
        "grid_res_RF_2 = grid.fit(X_numb, y)\n",
        "print(grid_res_RF_2.best_estimator_)\n",
        "\n",
        "res = grid_res_RF_2.cv_results_['mean_test_score']\n",
        "res_std = grid_res_RF_2.cv_results_['std_test_score']\n",
        "print(np.average(res))"
      ],
      "execution_count": null,
      "outputs": [
        {
          "output_type": "stream",
          "text": [
            "RandomForestClassifier(bootstrap=True, ccp_alpha=0.0, class_weight=None,\n",
            "                       criterion='entropy', max_depth=None, max_features='auto',\n",
            "                       max_leaf_nodes=None, max_samples=None,\n",
            "                       min_impurity_decrease=0.0, min_impurity_split=None,\n",
            "                       min_samples_leaf=1, min_samples_split=2,\n",
            "                       min_weight_fraction_leaf=0.0, n_estimators=225,\n",
            "                       n_jobs=None, oob_score=False, random_state=None,\n",
            "                       verbose=0, warm_start=False)\n",
            "0.8251479238240615\n"
          ],
          "name": "stdout"
        }
      ]
    },
    {
      "cell_type": "markdown",
      "metadata": {
        "id": "6BQrghjZAA3d"
      },
      "source": [
        "***Сравним полученные модели.*** Самым времезатратным алгоритмом является RandomFores (1 мин. и 48 с.). Это можно объяснить самой сутью данного метода - построение деревьев занимает весьма много времени (особенно при заданном нами n). Вместе с этим именно он показал наивысшее качество полученной модели. Вторым по времени оказался метод kNN (1 мин. и 21 с.). В то же время подобранные оптимальные параметры не позволили посчитать качество на tesr части, что не позволяет в должной мере оценить првильность предсказаний данного метода. Третим по скорости стал метод DecisionTree (36 с.). Его качество оказалось меньше, чем у первого метода. Наконец, быстрее всех справился метод SGD (21 с.). Его качество оказалось лучше, чем у модели DecisionTree, но чуть-чуть ниже, чем у RandomFores. "
      ]
    },
    {
      "cell_type": "markdown",
      "metadata": {
        "id": "kexaA3Yk0vH9"
      },
      "source": [
        "Какой из алгоритмов имеет наилучшее качество? \n",
        "\n",
        "**(0.5 балла)** Сравните алгоритмы с точки зрения времени обучения. Обучение какого из алгоритмов работает дольше всего и, как вы думаете, почему?"
      ]
    },
    {
      "cell_type": "markdown",
      "metadata": {
        "id": "7b7_89hg0vH-"
      },
      "source": [
        "## Добавление категориальных признаков в модели\n",
        "\n",
        "Пока мы не использовали нечисловые признаки, которые есть в датасете. Давайте посмотрим, правильно ли мы сделали и увеличится ли качество моделей после добавлениях этих признаков. \n",
        "\n",
        "**(0.5 балла)** Преобразуйте все категориальные признаки с помощью метода one-hot-encoding (например, это можно сделать с помощью функции [pandas.get_dummies](http://pandas.pydata.org/pandas-docs/stable/generated/pandas.get_dummies.html) или [DictVectorizer](http://scikit-learn.org/stable/modules/generated/sklearn.feature_extraction.DictVectorizer.html) из sklearn)."
      ]
    },
    {
      "cell_type": "code",
      "metadata": {
        "id": "X-N7D8KeeItU"
      },
      "source": [
        "X_sex = pd.get_dummies(data['sex'], drop_first=True)\n",
        "X_race = pd.get_dummies(data['race'], drop_first=True)\n",
        "X_education = pd.get_dummies(data['education'], drop_first=True)\n",
        "X_occupation = pd.get_dummies(data['occupation'], drop_first=True)\n",
        "X_relationship = pd.get_dummies(data['relationship'], drop_first=True)"
      ],
      "execution_count": null,
      "outputs": []
    },
    {
      "cell_type": "code",
      "metadata": {
        "id": "zgA0_oPBmvMt"
      },
      "source": [
        "X = X_sex.join((X_race, X_education,X_occupation, X_relationship, X_numb))"
      ],
      "execution_count": null,
      "outputs": []
    },
    {
      "cell_type": "markdown",
      "metadata": {
        "id": "nqRfVbRH0vIE"
      },
      "source": [
        "Так как после кодирования признаков получилось достаточно много, в этой работе мы не будем добавлять их и подбирать заново оптимальные гиперпараметры. \n",
        "\n",
        "**(0.5 балла)** Добавьте к масштабированным вещественным признакам закодированные категориальные и обучите алгоритмы с наилучшими гиперпараметрами из предыдущего пункта. Дало ли добавление новых признаков прирост качества? Измеряйте качество как и раньше используя 5-Fold CV. Для этого удобно воспользоваться функцией [cross_val_score](https://scikit-learn.org/stable/modules/generated/sklearn.model_selection.cross_val_score.html)."
      ]
    },
    {
      "cell_type": "code",
      "metadata": {
        "id": "f628MZkjhF99",
        "outputId": "b94e3280-57be-40d6-a7ca-c4d33e548538",
        "colab": {
          "base_uri": "https://localhost:8080/"
        }
      },
      "source": [
        "res_kNN = cross_val_score(grid_res_kNN_2.best_estimator_, X, y, cv= 5, scoring='roc_auc')\n",
        "res_SGD = cross_val_score(grid_res_SGD_2.best_estimator_, X, y, cv= 5, scoring='roc_auc')\n",
        "res_RF = cross_val_score(grid_res_RF_2.best_estimator_, X, y, cv= 5, scoring='roc_auc')\n",
        "res_DT = cross_val_score(grid_res_DT_2.best_estimator_, X, y, cv= 5, scoring='roc_auc')\n",
        "print('res_kNN:', np.average(res_kNN))\n",
        "print('res_SGD:', np.average(res_SGD))\n",
        "print('res_RF:', np.average(res_RF))\n",
        "print('res_DT:', np.average(res_DT))"
      ],
      "execution_count": null,
      "outputs": [
        {
          "output_type": "stream",
          "text": [
            "res_kNN: 0.6361756194094361\n",
            "res_SGD: 0.6292335467954411\n",
            "res_RF: 0.8997726652720648\n",
            "res_DT: 0.8799808889796029\n"
          ],
          "name": "stdout"
        }
      ]
    },
    {
      "cell_type": "markdown",
      "metadata": {
        "id": "-rAvXS7wo65W"
      },
      "source": [
        "***Что можно сказать про новые модели?*** Лучшим классификатором вновь оказался RandomForest, на втором месте по качеству - DecisionTree. Однако у обоих моделей хоть и чуть-чуть, но увеличилось качество при учета категориальных признаков. А значит можно сделать вывод о том, что введение дополнительных признаков было правильным."
      ]
    },
    {
      "cell_type": "markdown",
      "metadata": {
        "id": "yRtYDwMh0vII"
      },
      "source": [
        "Отличается ли теперь наилучший классификатор от наилучшего в предыдущем пункте?"
      ]
    },
    {
      "cell_type": "markdown",
      "metadata": {
        "id": "6TPZf6g90vIJ"
      },
      "source": [
        "## Смешивание моделей\n",
        "\n",
        "Во всех предыдущих пунктах мы получили много сильных моделей, которые могут быть достаточно разными по своей природе (например, метод ближайших соседей и случайный лес). Часто на практике оказывается возможным увеличить качество предсказани путем смешивания подобных разных моделей. Давайте посмотрим, действительно ли это дает прирост в качестве.\n",
        "\n",
        "Выберете из построенных моделей двух предыдущих пунктов две, которые дали наибольшее начество на кросс-валидации (обозначим их $clf_1$ и $clf_2$). Далее постройте новый классификатор, ответ которого на некотором объекте $x$ будет выглядеть следующим образом:\n",
        "\n",
        "$$result(x) = clf_1(x) * \\alpha + clf_2(x) * (1 - \\alpha)$$\n",
        "\n",
        "где $\\alpha$ — гиперпараметр нового классификатора.\n",
        "\n",
        "**(1 балл)** Подберите по сетке от 0 до 1 $\\alpha$ для этого классификатора с помощью 5-Fold CV и постройте график качества в зависимости от $\\alpha$ (аналогичный графику в разделе \"Обучение классификаторов и оценка качества\"). Дал ли этот подход прирост к качеству по сравнению с моделями ранее?"
      ]
    },
    {
      "cell_type": "code",
      "metadata": {
        "id": "GEbP9OTn0vIJ"
      },
      "source": [
        "from mlxtend.classifier import EnsembleVoteClassifier\n",
        "wage_1 = range (0, 1, 0.1)\n",
        "wage_2 = range (0, 1, 0.1)\n",
        "wage_3 = range (0, 1, 0.1)\n",
        "wage_4 = range (0, 1, 0.1)\n",
        "weights=[wage_1,wage_2,wage_3,wage_4]\n",
        "mv_clf= EnsembleVoteClassifier(clfs=[RandomForestClassifier(n_estimators=225), DecisionTreeClassifier(),SGDClassifier(),KNeighborsClassifier()])\n",
        "parametrs = {'weights': weights}\n",
        "grid = GridSearchCV(mv_clf, parametrs, cv=5,  scoring='roc_auc')\n",
        "grid_res_ = grid.fit(X, y)\n",
        "print(grid_res_RF_2.best_estimator_)"
      ],
      "execution_count": null,
      "outputs": []
    },
    {
      "cell_type": "markdown",
      "metadata": {
        "id": "M-ehunw00vIN"
      },
      "source": [
        "## Сравнение построенных моделей\n",
        "\n",
        "![](http://cdn.shopify.com/s/files/1/0870/1066/files/compare_e8b89647-3cb6-4871-a976-2e36e5987773.png?1750043340268621065)\n",
        "\n",
        "После того как было построено много моделей хотелось бы сравнить их между собой. Для этого можно построить \"ящик с усами\" (диаграму размаха). Для этого можно воспользоваться библиотекой [matplotlib](https://matplotlib.org/3.1.0/api/_as_gen/matplotlib.pyplot.boxplot.html) или [seaborn](https://seaborn.pydata.org/generated/seaborn.boxplot.html).\n",
        "\n",
        "**(1 балл)** Для каждого типа классификатора (kNN, DecisionTree, RandomForest, SGD classifier), а так же смешанной модели выберете тот, которых давал наилучшее качество на кросс-валидации и постройте диаграмму размаха (все классификаторы должны быть изображены на одном графике).\n",
        " \n",
        "Сделайте общие итоговые выводы о классификаторах с точки зрения их работы с признаками и сложности самой модели (какие гиперпараметры есть у модели, сильно ли изменение значения гиперпараметра влияет на качество модели)."
      ]
    },
    {
      "cell_type": "code",
      "metadata": {
        "id": "QfNzoBc90vIO",
        "outputId": "201f67d0-fef3-45c2-c159-497ec28a4c9f",
        "colab": {
          "base_uri": "https://localhost:8080/",
          "height": 774
        }
      },
      "source": [
        "import matplotlib.pyplot as plt\n",
        "fig1, ax1 = plt.subplots()\n",
        "ax1.set_title('Basic Plot')\n",
        "ax1.boxplot((res_RF, res_DT, res_SGD_2, res_knn))"
      ],
      "execution_count": null,
      "outputs": [
        {
          "output_type": "execute_result",
          "data": {
            "text/plain": [
              "{'boxes': [<matplotlib.lines.Line2D at 0x7fa94e5195f8>,\n",
              "  <matplotlib.lines.Line2D at 0x7fa94e541e80>,\n",
              "  <matplotlib.lines.Line2D at 0x7fa950dfe748>,\n",
              "  <matplotlib.lines.Line2D at 0x7fa950df9048>],\n",
              " 'caps': [<matplotlib.lines.Line2D at 0x7fa94e541048>,\n",
              "  <matplotlib.lines.Line2D at 0x7fa94e5413c8>,\n",
              "  <matplotlib.lines.Line2D at 0x7fa950df4cc0>,\n",
              "  <matplotlib.lines.Line2D at 0x7fa950df44a8>,\n",
              "  <matplotlib.lines.Line2D at 0x7fa950dd6240>,\n",
              "  <matplotlib.lines.Line2D at 0x7fa950dd65c0>,\n",
              "  <matplotlib.lines.Line2D at 0x7fa950df9b00>,\n",
              "  <matplotlib.lines.Line2D at 0x7fa950df9e80>],\n",
              " 'fliers': [<matplotlib.lines.Line2D at 0x7fa94e541ac8>,\n",
              "  <matplotlib.lines.Line2D at 0x7fa950dfe400>,\n",
              "  <matplotlib.lines.Line2D at 0x7fa950dd6cc0>,\n",
              "  <matplotlib.lines.Line2D at 0x7fa950dde5c0>],\n",
              " 'means': [],\n",
              " 'medians': [<matplotlib.lines.Line2D at 0x7fa94e541748>,\n",
              "  <matplotlib.lines.Line2D at 0x7fa950dfe080>,\n",
              "  <matplotlib.lines.Line2D at 0x7fa950dd6940>,\n",
              "  <matplotlib.lines.Line2D at 0x7fa950dde240>],\n",
              " 'whiskers': [<matplotlib.lines.Line2D at 0x7fa94e519908>,\n",
              "  <matplotlib.lines.Line2D at 0x7fa94e519c88>,\n",
              "  <matplotlib.lines.Line2D at 0x7fa950df4358>,\n",
              "  <matplotlib.lines.Line2D at 0x7fa950df4400>,\n",
              "  <matplotlib.lines.Line2D at 0x7fa950dfeb00>,\n",
              "  <matplotlib.lines.Line2D at 0x7fa950dfee80>,\n",
              "  <matplotlib.lines.Line2D at 0x7fa950df9400>,\n",
              "  <matplotlib.lines.Line2D at 0x7fa950df9780>]}"
            ]
          },
          "metadata": {
            "tags": []
          },
          "execution_count": 106
        },
        {
          "output_type": "display_data",
          "data": {
            "image/png": "[encoded data removed]",
            "text/plain": [
              "<Figure size 432x288 with 1 Axes>"
            ]
          },
          "metadata": {
            "tags": [],
            "needs_background": "light"
          }
        }
      ]
    },
    {
      "cell_type": "markdown",
      "metadata": {
        "id": "GIpylsRFt4_b"
      },
      "source": [
        "***Итоговые выводы. *** И так, что можно сказать о полученных моделях? Наилучший результат показал алгоритм RandomForest, хотя он же оказался самым времезатратным из всех. У алгоритма есть довольно много параметров, хотя практика показала, что изменение некоторых из них не сильно влияет на качество получаемой модели. Так что, с одной стороны, RandomForest позволяет уменьшить вред от потенциального переобучения, а с другой - нам приходится жертвовать временем обработки.\n",
        "Второй по качеству оказалась алгоритм DecisionTree. Она чуть уступает по качеству предыдущей модели, однако занимает значительно меньшее количество времени. Изменение гиперпараметров не оказывает столь существенное влияние на данный алгоритм.\n",
        "На третьем месте по качеству - алгоритм KNeighbors. У него относительно невысокое качество, и при подборе большого количесвта гиперпараметров приходится ждать довольно много времени. Однако интуитивно это самый простой и понятны алгоритм. \n",
        "Наконец, на последнем есте оказался алгоритм SGDClassifier. Он обладает наименьшим качеством среди полученных моделей. В то же время это весьма быстрый в работе алгоритм, который довольно сильно зависит от подбираемых гиперпараметров. "
      ]
    }
  ]
}